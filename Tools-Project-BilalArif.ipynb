{
  "cells": [
    {
      "cell_type": "code",
      "execution_count": 65,
      "id": "327496fd",
      "metadata": {
        "execution": {
          "iopub.execute_input": "2022-10-01T17:34:59.948482Z",
          "iopub.status.busy": "2022-10-01T17:34:59.947823Z",
          "iopub.status.idle": "2022-10-01T17:35:00.242303Z",
          "shell.execute_reply": "2022-10-01T17:35:00.241229Z"
        },
        "id": "327496fd",
        "papermill": {
          "duration": 0.303992,
          "end_time": "2022-10-01T17:35:00.245137",
          "exception": false,
          "start_time": "2022-10-01T17:34:59.941145",
          "status": "completed"
        },
        "tags": []
      },
      "outputs": [],
      "source": [
        "import numpy as np\n",
        "import matplotlib.pyplot as plt\n",
        "import seaborn as sns\n",
        "import pandas as pd\n",
        "from sklearn.model_selection import train_test_split\n",
        "from sklearn.preprocessing import StandardScaler\n",
        "from sklearn.ensemble import RandomForestClassifier\n",
        "from sklearn.metrics import accuracy_score, confusion_matrix, classification_report\n",
        "import joblib\n",
        "from sklearn import metrics\n",
        "\n",
        "\n",
        "\n",
        "\n",
        "data=pd.read_csv(r'd:/Tools-Project/smoke_detection_iot.csv')"
      ]
    },
    {
      "cell_type": "code",
      "execution_count": 48,
      "id": "cc8d2049",
      "metadata": {
        "colab": {
          "base_uri": "https://localhost:8080/"
        },
        "id": "cc8d2049",
        "outputId": "08f40f9c-f594-4c06-b015-4d066ce64634"
      },
      "outputs": [
        {
          "name": "stdout",
          "output_type": "stream",
          "text": [
            "Number of Rows and Columns :  (62630, 16)\n"
          ]
        },
        {
          "data": {
            "text/plain": [
              "62630"
            ]
          },
          "execution_count": 48,
          "metadata": {},
          "output_type": "execute_result"
        }
      ],
      "source": [
        "print(\"Number of Rows and Columns : \",data.shape)\n",
        "\n",
        "len(data)\n",
        "\n",
        "\n",
        "#check\n"
      ]
    },
    {
      "cell_type": "markdown",
      "id": "67bcc70c",
      "metadata": {
        "id": "67bcc70c"
      },
      "source": [
        "# EDA"
      ]
    },
    {
      "cell_type": "code",
      "execution_count": 49,
      "id": "554e37eb",
      "metadata": {
        "execution": {
          "iopub.execute_input": "2022-10-01T17:35:00.261710Z",
          "iopub.status.busy": "2022-10-01T17:35:00.261252Z",
          "iopub.status.idle": "2022-10-01T17:35:00.269528Z",
          "shell.execute_reply": "2022-10-01T17:35:00.268238Z"
        },
        "id": "554e37eb",
        "outputId": "d2c94636-9b60-4ea5-d4d0-58441f92a3ec",
        "papermill": {
          "duration": 0.017754,
          "end_time": "2022-10-01T17:35:00.272004",
          "exception": false,
          "start_time": "2022-10-01T17:35:00.254250",
          "status": "completed"
        },
        "tags": []
      },
      "outputs": [
        {
          "data": {
            "text/plain": [
              "Index(['Unnamed: 0', 'UTC', 'Temperature[C]', 'Humidity[%]', 'TVOC[ppb]',\n",
              "       'eCO2[ppm]', 'Raw H2', 'Raw Ethanol', 'Pressure[hPa]', 'PM1.0', 'PM2.5',\n",
              "       'NC0.5', 'NC1.0', 'NC2.5', 'CNT', 'Fire Alarm'],\n",
              "      dtype='object')"
            ]
          },
          "execution_count": 49,
          "metadata": {},
          "output_type": "execute_result"
        }
      ],
      "source": [
        "data.columns"
      ]
    },
    {
      "cell_type": "code",
      "execution_count": 50,
      "id": "ca14393d",
      "metadata": {
        "execution": {
          "iopub.execute_input": "2022-10-01T17:35:00.285342Z",
          "iopub.status.busy": "2022-10-01T17:35:00.284627Z",
          "iopub.status.idle": "2022-10-01T17:35:00.313999Z",
          "shell.execute_reply": "2022-10-01T17:35:00.312260Z"
        },
        "id": "ca14393d",
        "outputId": "036fae10-4030-403e-9492-92f7df6346cc",
        "papermill": {
          "duration": 0.038935,
          "end_time": "2022-10-01T17:35:00.316641",
          "exception": false,
          "start_time": "2022-10-01T17:35:00.277706",
          "status": "completed"
        },
        "tags": []
      },
      "outputs": [
        {
          "name": "stdout",
          "output_type": "stream",
          "text": [
            "<class 'pandas.core.frame.DataFrame'>\n",
            "RangeIndex: 62630 entries, 0 to 62629\n",
            "Data columns (total 16 columns):\n",
            " #   Column          Non-Null Count  Dtype  \n",
            "---  ------          --------------  -----  \n",
            " 0   Unnamed: 0      62630 non-null  int64  \n",
            " 1   UTC             62630 non-null  int64  \n",
            " 2   Temperature[C]  62630 non-null  float64\n",
            " 3   Humidity[%]     62630 non-null  float64\n",
            " 4   TVOC[ppb]       62630 non-null  int64  \n",
            " 5   eCO2[ppm]       62630 non-null  int64  \n",
            " 6   Raw H2          62630 non-null  int64  \n",
            " 7   Raw Ethanol     62630 non-null  int64  \n",
            " 8   Pressure[hPa]   62630 non-null  float64\n",
            " 9   PM1.0           62630 non-null  float64\n",
            " 10  PM2.5           62630 non-null  float64\n",
            " 11  NC0.5           62630 non-null  float64\n",
            " 12  NC1.0           62630 non-null  float64\n",
            " 13  NC2.5           62630 non-null  float64\n",
            " 14  CNT             62630 non-null  int64  \n",
            " 15  Fire Alarm      62630 non-null  int64  \n",
            "dtypes: float64(8), int64(8)\n",
            "memory usage: 7.6 MB\n"
          ]
        }
      ],
      "source": [
        "data.info()"
      ]
    },
    {
      "cell_type": "code",
      "execution_count": 51,
      "id": "32c30cdd",
      "metadata": {
        "execution": {
          "iopub.execute_input": "2022-10-01T17:35:00.331289Z",
          "iopub.status.busy": "2022-10-01T17:35:00.330418Z",
          "iopub.status.idle": "2022-10-01T17:35:00.339806Z",
          "shell.execute_reply": "2022-10-01T17:35:00.338593Z"
        },
        "id": "32c30cdd",
        "papermill": {
          "duration": 0.019469,
          "end_time": "2022-10-01T17:35:00.342367",
          "exception": false,
          "start_time": "2022-10-01T17:35:00.322898",
          "status": "completed"
        },
        "tags": []
      },
      "outputs": [
        {
          "name": "stdout",
          "output_type": "stream",
          "text": [
            "Successfully Deleted Columns\n"
          ]
        }
      ],
      "source": [
        "try:\n",
        "    df = data.drop(['Unnamed: 0','UTC','CNT','PM1.0','PM2.5','NC0.5','NC1.0','NC2.5'], axis=1, inplace=True)\n",
        "    print(\"Successfully Deleted Columns\")\n",
        "except:\n",
        "    print(\"Columns cannot be deleted\")"
      ]
    },
    {
      "cell_type": "code",
      "execution_count": 52,
      "id": "c19f5e8f",
      "metadata": {
        "execution": {
          "iopub.execute_input": "2022-10-01T17:35:00.356373Z",
          "iopub.status.busy": "2022-10-01T17:35:00.355953Z",
          "iopub.status.idle": "2022-10-01T17:35:00.376734Z",
          "shell.execute_reply": "2022-10-01T17:35:00.375664Z"
        },
        "id": "c19f5e8f",
        "outputId": "c52f4766-4445-4699-fafa-d2f9eacb7504",
        "papermill": {
          "duration": 0.03058,
          "end_time": "2022-10-01T17:35:00.379224",
          "exception": false,
          "start_time": "2022-10-01T17:35:00.348644",
          "status": "completed"
        },
        "tags": []
      },
      "outputs": [
        {
          "data": {
            "text/html": [
              "<div>\n",
              "<style scoped>\n",
              "    .dataframe tbody tr th:only-of-type {\n",
              "        vertical-align: middle;\n",
              "    }\n",
              "\n",
              "    .dataframe tbody tr th {\n",
              "        vertical-align: top;\n",
              "    }\n",
              "\n",
              "    .dataframe thead th {\n",
              "        text-align: right;\n",
              "    }\n",
              "</style>\n",
              "<table border=\"1\" class=\"dataframe\">\n",
              "  <thead>\n",
              "    <tr style=\"text-align: right;\">\n",
              "      <th></th>\n",
              "      <th>Temperature[C]</th>\n",
              "      <th>Humidity[%]</th>\n",
              "      <th>TVOC[ppb]</th>\n",
              "      <th>eCO2[ppm]</th>\n",
              "      <th>Raw H2</th>\n",
              "      <th>Raw Ethanol</th>\n",
              "      <th>Pressure[hPa]</th>\n",
              "      <th>Fire Alarm</th>\n",
              "    </tr>\n",
              "  </thead>\n",
              "  <tbody>\n",
              "    <tr>\n",
              "      <th>0</th>\n",
              "      <td>20.000</td>\n",
              "      <td>57.36</td>\n",
              "      <td>0</td>\n",
              "      <td>400</td>\n",
              "      <td>12306</td>\n",
              "      <td>18520</td>\n",
              "      <td>939.735</td>\n",
              "      <td>0</td>\n",
              "    </tr>\n",
              "    <tr>\n",
              "      <th>1</th>\n",
              "      <td>20.015</td>\n",
              "      <td>56.67</td>\n",
              "      <td>0</td>\n",
              "      <td>400</td>\n",
              "      <td>12345</td>\n",
              "      <td>18651</td>\n",
              "      <td>939.744</td>\n",
              "      <td>0</td>\n",
              "    </tr>\n",
              "    <tr>\n",
              "      <th>2</th>\n",
              "      <td>20.029</td>\n",
              "      <td>55.96</td>\n",
              "      <td>0</td>\n",
              "      <td>400</td>\n",
              "      <td>12374</td>\n",
              "      <td>18764</td>\n",
              "      <td>939.738</td>\n",
              "      <td>0</td>\n",
              "    </tr>\n",
              "    <tr>\n",
              "      <th>3</th>\n",
              "      <td>20.044</td>\n",
              "      <td>55.28</td>\n",
              "      <td>0</td>\n",
              "      <td>400</td>\n",
              "      <td>12390</td>\n",
              "      <td>18849</td>\n",
              "      <td>939.736</td>\n",
              "      <td>0</td>\n",
              "    </tr>\n",
              "    <tr>\n",
              "      <th>4</th>\n",
              "      <td>20.059</td>\n",
              "      <td>54.69</td>\n",
              "      <td>0</td>\n",
              "      <td>400</td>\n",
              "      <td>12403</td>\n",
              "      <td>18921</td>\n",
              "      <td>939.744</td>\n",
              "      <td>0</td>\n",
              "    </tr>\n",
              "  </tbody>\n",
              "</table>\n",
              "</div>"
            ],
            "text/plain": [
              "   Temperature[C]  Humidity[%]  TVOC[ppb]  eCO2[ppm]  Raw H2  Raw Ethanol  \\\n",
              "0          20.000        57.36          0        400   12306        18520   \n",
              "1          20.015        56.67          0        400   12345        18651   \n",
              "2          20.029        55.96          0        400   12374        18764   \n",
              "3          20.044        55.28          0        400   12390        18849   \n",
              "4          20.059        54.69          0        400   12403        18921   \n",
              "\n",
              "   Pressure[hPa]  Fire Alarm  \n",
              "0        939.735           0  \n",
              "1        939.744           0  \n",
              "2        939.738           0  \n",
              "3        939.736           0  \n",
              "4        939.744           0  "
            ]
          },
          "execution_count": 52,
          "metadata": {},
          "output_type": "execute_result"
        }
      ],
      "source": [
        "data.head(5)\n",
        "# data.tail()"
      ]
    },
    {
      "cell_type": "code",
      "execution_count": 53,
      "id": "cc4c12df",
      "metadata": {
        "execution": {
          "iopub.execute_input": "2022-10-01T17:35:00.393369Z",
          "iopub.status.busy": "2022-10-01T17:35:00.392940Z",
          "iopub.status.idle": "2022-10-01T17:35:00.403853Z",
          "shell.execute_reply": "2022-10-01T17:35:00.402750Z"
        },
        "id": "cc4c12df",
        "outputId": "09796084-e869-4573-b9ad-e8ac5451439c",
        "papermill": {
          "duration": 0.020991,
          "end_time": "2022-10-01T17:35:00.406275",
          "exception": false,
          "start_time": "2022-10-01T17:35:00.385284",
          "status": "completed"
        },
        "tags": []
      },
      "outputs": [
        {
          "data": {
            "text/plain": [
              "Temperature[C]    0\n",
              "Humidity[%]       0\n",
              "TVOC[ppb]         0\n",
              "eCO2[ppm]         0\n",
              "Raw H2            0\n",
              "Raw Ethanol       0\n",
              "Pressure[hPa]     0\n",
              "Fire Alarm        0\n",
              "dtype: int64"
            ]
          },
          "execution_count": 53,
          "metadata": {},
          "output_type": "execute_result"
        }
      ],
      "source": [
        "# Checking Null Values\n",
        "data.isna().sum()"
      ]
    },
    {
      "cell_type": "code",
      "execution_count": 54,
      "id": "1f00a93c",
      "metadata": {},
      "outputs": [
        {
          "data": {
            "text/plain": [
              "62630"
            ]
          },
          "execution_count": 54,
          "metadata": {},
          "output_type": "execute_result"
        }
      ],
      "source": [
        "len(data)"
      ]
    },
    {
      "cell_type": "code",
      "execution_count": 55,
      "id": "422f7df3",
      "metadata": {
        "execution": {
          "iopub.execute_input": "2022-10-01T17:35:00.420298Z",
          "iopub.status.busy": "2022-10-01T17:35:00.419909Z",
          "iopub.status.idle": "2022-10-01T17:35:00.429391Z",
          "shell.execute_reply": "2022-10-01T17:35:00.428316Z"
        },
        "id": "422f7df3",
        "outputId": "859444e5-9723-4024-84c9-039762eb6b11",
        "papermill": {
          "duration": 0.019284,
          "end_time": "2022-10-01T17:35:00.431737",
          "exception": false,
          "start_time": "2022-10-01T17:35:00.412453",
          "status": "completed"
        },
        "tags": []
      },
      "outputs": [
        {
          "data": {
            "text/plain": [
              "Fire Alarm\n",
              "1    44757\n",
              "0    17873\n",
              "Name: count, dtype: int64"
            ]
          },
          "execution_count": 55,
          "metadata": {},
          "output_type": "execute_result"
        }
      ],
      "source": [
        "# Checking total counts\n",
        "data['Fire Alarm'].value_counts()"
      ]
    },
    {
      "cell_type": "code",
      "execution_count": 56,
      "id": "f9ea067a",
      "metadata": {},
      "outputs": [
        {
          "name": "stderr",
          "output_type": "stream",
          "text": [
            "C:\\Users\\lenovo t470\\AppData\\Local\\Temp\\ipykernel_10368\\691283018.py:3: UserWarning: To output multiple subplots, the figure containing the passed axes is being cleared.\n",
            "  data.hist(ax=ax)\n"
          ]
        },
        {
          "data": {
            "text/plain": [
              "array([[<Axes: title={'center': 'Temperature[C]'}>,\n",
              "        <Axes: title={'center': 'Humidity[%]'}>,\n",
              "        <Axes: title={'center': 'TVOC[ppb]'}>],\n",
              "       [<Axes: title={'center': 'eCO2[ppm]'}>,\n",
              "        <Axes: title={'center': 'Raw H2'}>,\n",
              "        <Axes: title={'center': 'Raw Ethanol'}>],\n",
              "       [<Axes: title={'center': 'Pressure[hPa]'}>,\n",
              "        <Axes: title={'center': 'Fire Alarm'}>, <Axes: >]], dtype=object)"
            ]
          },
          "execution_count": 56,
          "metadata": {},
          "output_type": "execute_result"
        },
        {
          "data": {
            "image/png": "[encoded data removed]",
            "text/plain": [
              "<Figure size 1000x1000 with 9 Axes>"
            ]
          },
          "metadata": {},
          "output_type": "display_data"
        }
      ],
      "source": [
        "fig = plt.figure(figsize = (10,10))\n",
        "ax = fig.gca()\n",
        "data.hist(ax=ax)"
      ]
    },
    {
      "cell_type": "code",
      "execution_count": 57,
      "id": "1561c3af",
      "metadata": {},
      "outputs": [
        {
          "data": {
            "text/plain": [
              "<Axes: >"
            ]
          },
          "execution_count": 57,
          "metadata": {},
          "output_type": "execute_result"
        },
        {
          "data": {
            "image/png": "[encoded data removed]",
            "text/plain": [
              "<Figure size 800x600 with 2 Axes>"
            ]
          },
          "metadata": {},
          "output_type": "display_data"
        }
      ],
      "source": [
        "corr2 = data.corr()\n",
        "\n",
        "mask = np.triu(np.ones_like(corr2, dtype=bool))\n",
        "f, ax = plt.subplots(figsize=(8, 6))\n",
        "cmap = sns.diverging_palette(150, 30, as_cmap=True)\n",
        "sns.heatmap(corr2, mask=mask, cmap=cmap, vmax=.3, center=0,\n",
        "            square=True, linewidths=.5, cbar_kws={\"shrink\": .5})"
      ]
    },
    {
      "cell_type": "markdown",
      "id": "0c42489c",
      "metadata": {},
      "source": [
        "# Splitting the feature and Target"
      ]
    },
    {
      "cell_type": "code",
      "execution_count": 58,
      "id": "3142f890",
      "metadata": {},
      "outputs": [],
      "source": [
        "dfy = data.pop('Fire Alarm')\n",
        "dfy = pd.DataFrame(dfy, columns=['Fire Alarm'])"
      ]
    },
    {
      "cell_type": "markdown",
      "id": "57f4fd3f",
      "metadata": {},
      "source": [
        "# Split train and val dataset\n",
        "\n"
      ]
    },
    {
      "cell_type": "code",
      "execution_count": 59,
      "id": "d23f00d5",
      "metadata": {},
      "outputs": [],
      "source": [
        "VER = '002'\n",
        "NUM_STATE = 41\n",
        "xtrain, xval, ytrain, yval = train_test_split(data, dfy, test_size=0.2, shuffle=True, random_state=NUM_STATE, stratify=dfy)"
      ]
    },
    {
      "cell_type": "markdown",
      "id": "5013c88c",
      "metadata": {},
      "source": [
        "# Scale data using StandardScaler\n"
      ]
    },
    {
      "cell_type": "code",
      "execution_count": 60,
      "id": "9a41675a",
      "metadata": {},
      "outputs": [],
      "source": [
        "sc = StandardScaler()\n",
        "sc.fit(xtrain)\n",
        "xtrainsc = sc.transform(xtrain)\n",
        "xvalsc = sc.transform(xval)"
      ]
    },
    {
      "cell_type": "markdown",
      "id": "cf0d3478",
      "metadata": {},
      "source": [
        "# Train model using Random Forest\n"
      ]
    },
    {
      "cell_type": "code",
      "execution_count": 61,
      "id": "0ffc1975",
      "metadata": {},
      "outputs": [
        {
          "data": {
            "text/html": [
              "<style>#sk-container-id-2 {color: black;}#sk-container-id-2 pre{padding: 0;}#sk-container-id-2 div.sk-toggleable {background-color: white;}#sk-container-id-2 label.sk-toggleable__label {cursor: pointer;display: block;width: 100%;margin-bottom: 0;padding: 0.3em;box-sizing: border-box;text-align: center;}#sk-container-id-2 label.sk-toggleable__label-arrow:before {content: \"▸\";float: left;margin-right: 0.25em;color: #696969;}#sk-container-id-2 label.sk-toggleable__label-arrow:hover:before {color: black;}#sk-container-id-2 div.sk-estimator:hover label.sk-toggleable__label-arrow:before {color: black;}#sk-container-id-2 div.sk-toggleable__content {max-height: 0;max-width: 0;overflow: hidden;text-align: left;background-color: #f0f8ff;}#sk-container-id-2 div.sk-toggleable__content pre {margin: 0.2em;color: black;border-radius: 0.25em;background-color: #f0f8ff;}#sk-container-id-2 input.sk-toggleable__control:checked~div.sk-toggleable__content {max-height: 200px;max-width: 100%;overflow: auto;}#sk-container-id-2 input.sk-toggleable__control:checked~label.sk-toggleable__label-arrow:before {content: \"▾\";}#sk-container-id-2 div.sk-estimator input.sk-toggleable__control:checked~label.sk-toggleable__label {background-color: #d4ebff;}#sk-container-id-2 div.sk-label input.sk-toggleable__control:checked~label.sk-toggleable__label {background-color: #d4ebff;}#sk-container-id-2 input.sk-hidden--visually {border: 0;clip: rect(1px 1px 1px 1px);clip: rect(1px, 1px, 1px, 1px);height: 1px;margin: -1px;overflow: hidden;padding: 0;position: absolute;width: 1px;}#sk-container-id-2 div.sk-estimator {font-family: monospace;background-color: #f0f8ff;border: 1px dotted black;border-radius: 0.25em;box-sizing: border-box;margin-bottom: 0.5em;}#sk-container-id-2 div.sk-estimator:hover {background-color: #d4ebff;}#sk-container-id-2 div.sk-parallel-item::after {content: \"\";width: 100%;border-bottom: 1px solid gray;flex-grow: 1;}#sk-container-id-2 div.sk-label:hover label.sk-toggleable__label {background-color: #d4ebff;}#sk-container-id-2 div.sk-serial::before {content: \"\";position: absolute;border-left: 1px solid gray;box-sizing: border-box;top: 0;bottom: 0;left: 50%;z-index: 0;}#sk-container-id-2 div.sk-serial {display: flex;flex-direction: column;align-items: center;background-color: white;padding-right: 0.2em;padding-left: 0.2em;position: relative;}#sk-container-id-2 div.sk-item {position: relative;z-index: 1;}#sk-container-id-2 div.sk-parallel {display: flex;align-items: stretch;justify-content: center;background-color: white;position: relative;}#sk-container-id-2 div.sk-item::before, #sk-container-id-2 div.sk-parallel-item::before {content: \"\";position: absolute;border-left: 1px solid gray;box-sizing: border-box;top: 0;bottom: 0;left: 50%;z-index: -1;}#sk-container-id-2 div.sk-parallel-item {display: flex;flex-direction: column;z-index: 1;position: relative;background-color: white;}#sk-container-id-2 div.sk-parallel-item:first-child::after {align-self: flex-end;width: 50%;}#sk-container-id-2 div.sk-parallel-item:last-child::after {align-self: flex-start;width: 50%;}#sk-container-id-2 div.sk-parallel-item:only-child::after {width: 0;}#sk-container-id-2 div.sk-dashed-wrapped {border: 1px dashed gray;margin: 0 0.4em 0.5em 0.4em;box-sizing: border-box;padding-bottom: 0.4em;background-color: white;}#sk-container-id-2 div.sk-label label {font-family: monospace;font-weight: bold;display: inline-block;line-height: 1.2em;}#sk-container-id-2 div.sk-label-container {text-align: center;}#sk-container-id-2 div.sk-container {/* jupyter's `normalize.less` sets `[hidden] { display: none; }` but bootstrap.min.css set `[hidden] { display: none !important; }` so we also need the `!important` here to be able to override the default hidden behavior on the sphinx rendered scikit-learn.org. See: https://github.com/scikit-learn/scikit-learn/issues/21755 */display: inline-block !important;position: relative;}#sk-container-id-2 div.sk-text-repr-fallback {display: none;}</style><div id=\"sk-container-id-2\" class=\"sk-top-container\"><div class=\"sk-text-repr-fallback\"><pre>RandomForestClassifier()</pre><b>In a Jupyter environment, please rerun this cell to show the HTML representation or trust the notebook. <br />On GitHub, the HTML representation is unable to render, please try loading this page with nbviewer.org.</b></div><div class=\"sk-container\" hidden><div class=\"sk-item\"><div class=\"sk-estimator sk-toggleable\"><input class=\"sk-toggleable__control sk-hidden--visually\" id=\"sk-estimator-id-2\" type=\"checkbox\" checked><label for=\"sk-estimator-id-2\" class=\"sk-toggleable__label sk-toggleable__label-arrow\">RandomForestClassifier</label><div class=\"sk-toggleable__content\"><pre>RandomForestClassifier()</pre></div></div></div></div></div>"
            ],
            "text/plain": [
              "RandomForestClassifier()"
            ]
          },
          "execution_count": 61,
          "metadata": {},
          "output_type": "execute_result"
        }
      ],
      "source": [
        "rf = RandomForestClassifier()\n",
        "rf.fit(xtrainsc, ytrain.to_numpy().ravel())"
      ]
    },
    {
      "cell_type": "code",
      "execution_count": 62,
      "id": "56fa579e",
      "metadata": {},
      "outputs": [],
      "source": [
        "# Running the prediction\n",
        "ypred = rf.predict(xvalsc)\n"
      ]
    },
    {
      "cell_type": "code",
      "execution_count": 63,
      "id": "7232ffcb",
      "metadata": {},
      "outputs": [
        {
          "name": "stdout",
          "output_type": "stream",
          "text": [
            "Random Forest Accuracy  0.9997604981638193\n"
          ]
        }
      ],
      "source": [
        "print(\"Random Forest Accuracy \",accuracy_score(yval, ypred))\n",
        "\n"
      ]
    },
    {
      "cell_type": "code",
      "execution_count": 66,
      "id": "0b9acab0",
      "metadata": {},
      "outputs": [
        {
          "data": {
            "image/png": "[encoded data removed]",
            "text/plain": [
              "<Figure size 640x480 with 2 Axes>"
            ]
          },
          "metadata": {},
          "output_type": "display_data"
        }
      ],
      "source": [
        "confusion_matrix = confusion_matrix(yval, ypred)\n",
        "cm_display = metrics.ConfusionMatrixDisplay(confusion_matrix = confusion_matrix, display_labels = [False, True])\n",
        "cm_display.plot()\n",
        "plt.show()\n"
      ]
    },
    {
      "cell_type": "code",
      "execution_count": 67,
      "id": "aed37744",
      "metadata": {},
      "outputs": [
        {
          "name": "stdout",
          "output_type": "stream",
          "text": [
            "Classification Report                precision    recall  f1-score   support\n",
            "\n",
            "           0       1.00      1.00      1.00      3575\n",
            "           1       1.00      1.00      1.00      8951\n",
            "\n",
            "    accuracy                           1.00     12526\n",
            "   macro avg       1.00      1.00      1.00     12526\n",
            "weighted avg       1.00      1.00      1.00     12526\n",
            "\n"
          ]
        }
      ],
      "source": [
        "print(\"Classification Report \",classification_report(yval, ypred))\n"
      ]
    },
    {
      "cell_type": "code",
      "execution_count": 68,
      "id": "83b3b4b2",
      "metadata": {},
      "outputs": [
        {
          "data": {
            "text/plain": [
              "<BarContainer object of 7 artists>"
            ]
          },
          "execution_count": 68,
          "metadata": {},
          "output_type": "execute_result"
        },
        {
          "data": {
            "image/png": "[encoded data removed]",
            "text/plain": [
              "<Figure size 800x400 with 1 Axes>"
            ]
          },
          "metadata": {},
          "output_type": "display_data"
        }
      ],
      "source": [
        "# feature Importance\n",
        "\n",
        "sorted_idx = rf.feature_importances_.argsort()\n",
        "rf.feature_importances_[sorted_idx]\n",
        "\n",
        "\n",
        "plt.figure(figsize=(8,4))\n",
        "plt.xticks(rotation = 90)\n",
        "plt.bar(xtrain.columns[sorted_idx], rf.feature_importances_[sorted_idx])"
      ]
    },
    {
      "cell_type": "code",
      "execution_count": 72,
      "id": "c93a8bac",
      "metadata": {},
      "outputs": [
        {
          "data": {
            "text/plain": [
              "['./standardscaler.joblib']"
            ]
          },
          "execution_count": 72,
          "metadata": {},
          "output_type": "execute_result"
        }
      ],
      "source": [
        "joblib.dump(rf, './smoke-detection-rf.joblib')\n",
        "\n",
        "joblib.dump(sc, './standardscaler.joblib')\n",
        "\n"
      ]
    },
    {
      "cell_type": "code",
      "execution_count": null,
      "id": "478ef6cc",
      "metadata": {},
      "outputs": [],
      "source": []
    },
    {
      "cell_type": "code",
      "execution_count": 11,
      "id": "75dd0e2b",
      "metadata": {
        "execution": {
          "iopub.execute_input": "2022-10-01T17:35:00.445989Z",
          "iopub.status.busy": "2022-10-01T17:35:00.445615Z",
          "iopub.status.idle": "2022-10-01T17:35:01.512879Z",
          "shell.execute_reply": "2022-10-01T17:35:01.511711Z"
        },
        "id": "75dd0e2b",
        "papermill": {
          "duration": 1.077662,
          "end_time": "2022-10-01T17:35:01.515636",
          "exception": false,
          "start_time": "2022-10-01T17:35:00.437974",
          "status": "completed"
        },
        "tags": []
      },
      "outputs": [
        {
          "name": "stdout",
          "output_type": "stream",
          "text": [
            "RobustScaler()\n"
          ]
        }
      ],
      "source": [
        "# Using Robust Scaler as preprocessing because it is robust to outliers.\n",
        "\n",
        "from sklearn.preprocessing import RobustScaler\n",
        "data_scaled= RobustScaler()\n",
        "print(data_scaled)"
      ]
    },
    {
      "cell_type": "code",
      "execution_count": 12,
      "id": "c046b290",
      "metadata": {
        "execution": {
          "iopub.execute_input": "2022-10-01T17:35:01.529828Z",
          "iopub.status.busy": "2022-10-01T17:35:01.529405Z",
          "iopub.status.idle": "2022-10-01T17:35:01.562798Z",
          "shell.execute_reply": "2022-10-01T17:35:01.561865Z"
        },
        "id": "c046b290",
        "outputId": "14463b66-be8b-49e0-fdaf-0731715a0a2e",
        "papermill": {
          "duration": 0.043342,
          "end_time": "2022-10-01T17:35:01.565372",
          "exception": false,
          "start_time": "2022-10-01T17:35:01.522030",
          "status": "completed"
        },
        "tags": []
      },
      "outputs": [
        {
          "data": {
            "text/html": [
              "<div>\n",
              "<style scoped>\n",
              "    .dataframe tbody tr th:only-of-type {\n",
              "        vertical-align: middle;\n",
              "    }\n",
              "\n",
              "    .dataframe tbody tr th {\n",
              "        vertical-align: top;\n",
              "    }\n",
              "\n",
              "    .dataframe thead th {\n",
              "        text-align: right;\n",
              "    }\n",
              "</style>\n",
              "<table border=\"1\" class=\"dataframe\">\n",
              "  <thead>\n",
              "    <tr style=\"text-align: right;\">\n",
              "      <th></th>\n",
              "      <th>Temperature[C]</th>\n",
              "      <th>Humidity[%]</th>\n",
              "      <th>TVOC[ppb]</th>\n",
              "      <th>eCO2[ppm]</th>\n",
              "      <th>Raw H2</th>\n",
              "      <th>Raw Ethanol</th>\n",
              "      <th>Pressure[hPa]</th>\n",
              "      <th>PM1.0</th>\n",
              "      <th>PM2.5</th>\n",
              "      <th>NC0.5</th>\n",
              "      <th>NC1.0</th>\n",
              "      <th>NC2.5</th>\n",
              "      <th>CNT</th>\n",
              "    </tr>\n",
              "  </thead>\n",
              "  <tbody>\n",
              "    <tr>\n",
              "      <th>0</th>\n",
              "      <td>20.000</td>\n",
              "      <td>57.36</td>\n",
              "      <td>0</td>\n",
              "      <td>400</td>\n",
              "      <td>12306</td>\n",
              "      <td>18520</td>\n",
              "      <td>939.735</td>\n",
              "      <td>0.00</td>\n",
              "      <td>0.00</td>\n",
              "      <td>0.00</td>\n",
              "      <td>0.000</td>\n",
              "      <td>0.000</td>\n",
              "      <td>0</td>\n",
              "    </tr>\n",
              "    <tr>\n",
              "      <th>1</th>\n",
              "      <td>20.015</td>\n",
              "      <td>56.67</td>\n",
              "      <td>0</td>\n",
              "      <td>400</td>\n",
              "      <td>12345</td>\n",
              "      <td>18651</td>\n",
              "      <td>939.744</td>\n",
              "      <td>0.00</td>\n",
              "      <td>0.00</td>\n",
              "      <td>0.00</td>\n",
              "      <td>0.000</td>\n",
              "      <td>0.000</td>\n",
              "      <td>1</td>\n",
              "    </tr>\n",
              "    <tr>\n",
              "      <th>2</th>\n",
              "      <td>20.029</td>\n",
              "      <td>55.96</td>\n",
              "      <td>0</td>\n",
              "      <td>400</td>\n",
              "      <td>12374</td>\n",
              "      <td>18764</td>\n",
              "      <td>939.738</td>\n",
              "      <td>0.00</td>\n",
              "      <td>0.00</td>\n",
              "      <td>0.00</td>\n",
              "      <td>0.000</td>\n",
              "      <td>0.000</td>\n",
              "      <td>2</td>\n",
              "    </tr>\n",
              "    <tr>\n",
              "      <th>3</th>\n",
              "      <td>20.044</td>\n",
              "      <td>55.28</td>\n",
              "      <td>0</td>\n",
              "      <td>400</td>\n",
              "      <td>12390</td>\n",
              "      <td>18849</td>\n",
              "      <td>939.736</td>\n",
              "      <td>0.00</td>\n",
              "      <td>0.00</td>\n",
              "      <td>0.00</td>\n",
              "      <td>0.000</td>\n",
              "      <td>0.000</td>\n",
              "      <td>3</td>\n",
              "    </tr>\n",
              "    <tr>\n",
              "      <th>4</th>\n",
              "      <td>20.059</td>\n",
              "      <td>54.69</td>\n",
              "      <td>0</td>\n",
              "      <td>400</td>\n",
              "      <td>12403</td>\n",
              "      <td>18921</td>\n",
              "      <td>939.744</td>\n",
              "      <td>0.00</td>\n",
              "      <td>0.00</td>\n",
              "      <td>0.00</td>\n",
              "      <td>0.000</td>\n",
              "      <td>0.000</td>\n",
              "      <td>4</td>\n",
              "    </tr>\n",
              "    <tr>\n",
              "      <th>...</th>\n",
              "      <td>...</td>\n",
              "      <td>...</td>\n",
              "      <td>...</td>\n",
              "      <td>...</td>\n",
              "      <td>...</td>\n",
              "      <td>...</td>\n",
              "      <td>...</td>\n",
              "      <td>...</td>\n",
              "      <td>...</td>\n",
              "      <td>...</td>\n",
              "      <td>...</td>\n",
              "      <td>...</td>\n",
              "      <td>...</td>\n",
              "    </tr>\n",
              "    <tr>\n",
              "      <th>62625</th>\n",
              "      <td>18.438</td>\n",
              "      <td>15.79</td>\n",
              "      <td>625</td>\n",
              "      <td>400</td>\n",
              "      <td>13723</td>\n",
              "      <td>20569</td>\n",
              "      <td>936.670</td>\n",
              "      <td>0.63</td>\n",
              "      <td>0.65</td>\n",
              "      <td>4.32</td>\n",
              "      <td>0.673</td>\n",
              "      <td>0.015</td>\n",
              "      <td>5739</td>\n",
              "    </tr>\n",
              "    <tr>\n",
              "      <th>62626</th>\n",
              "      <td>18.653</td>\n",
              "      <td>15.87</td>\n",
              "      <td>612</td>\n",
              "      <td>400</td>\n",
              "      <td>13731</td>\n",
              "      <td>20588</td>\n",
              "      <td>936.678</td>\n",
              "      <td>0.61</td>\n",
              "      <td>0.63</td>\n",
              "      <td>4.18</td>\n",
              "      <td>0.652</td>\n",
              "      <td>0.015</td>\n",
              "      <td>5740</td>\n",
              "    </tr>\n",
              "    <tr>\n",
              "      <th>62627</th>\n",
              "      <td>18.867</td>\n",
              "      <td>15.84</td>\n",
              "      <td>627</td>\n",
              "      <td>400</td>\n",
              "      <td>13725</td>\n",
              "      <td>20582</td>\n",
              "      <td>936.687</td>\n",
              "      <td>0.57</td>\n",
              "      <td>0.60</td>\n",
              "      <td>3.95</td>\n",
              "      <td>0.617</td>\n",
              "      <td>0.014</td>\n",
              "      <td>5741</td>\n",
              "    </tr>\n",
              "    <tr>\n",
              "      <th>62628</th>\n",
              "      <td>19.083</td>\n",
              "      <td>16.04</td>\n",
              "      <td>638</td>\n",
              "      <td>400</td>\n",
              "      <td>13712</td>\n",
              "      <td>20566</td>\n",
              "      <td>936.680</td>\n",
              "      <td>0.57</td>\n",
              "      <td>0.59</td>\n",
              "      <td>3.92</td>\n",
              "      <td>0.611</td>\n",
              "      <td>0.014</td>\n",
              "      <td>5742</td>\n",
              "    </tr>\n",
              "    <tr>\n",
              "      <th>62629</th>\n",
              "      <td>19.299</td>\n",
              "      <td>16.52</td>\n",
              "      <td>643</td>\n",
              "      <td>400</td>\n",
              "      <td>13696</td>\n",
              "      <td>20543</td>\n",
              "      <td>936.676</td>\n",
              "      <td>0.57</td>\n",
              "      <td>0.59</td>\n",
              "      <td>3.90</td>\n",
              "      <td>0.607</td>\n",
              "      <td>0.014</td>\n",
              "      <td>5743</td>\n",
              "    </tr>\n",
              "  </tbody>\n",
              "</table>\n",
              "<p>62630 rows × 13 columns</p>\n",
              "</div>"
            ],
            "text/plain": [
              "       Temperature[C]  Humidity[%]  TVOC[ppb]  eCO2[ppm]  Raw H2  Raw Ethanol  \\\n",
              "0              20.000        57.36          0        400   12306        18520   \n",
              "1              20.015        56.67          0        400   12345        18651   \n",
              "2              20.029        55.96          0        400   12374        18764   \n",
              "3              20.044        55.28          0        400   12390        18849   \n",
              "4              20.059        54.69          0        400   12403        18921   \n",
              "...               ...          ...        ...        ...     ...          ...   \n",
              "62625          18.438        15.79        625        400   13723        20569   \n",
              "62626          18.653        15.87        612        400   13731        20588   \n",
              "62627          18.867        15.84        627        400   13725        20582   \n",
              "62628          19.083        16.04        638        400   13712        20566   \n",
              "62629          19.299        16.52        643        400   13696        20543   \n",
              "\n",
              "       Pressure[hPa]  PM1.0  PM2.5  NC0.5  NC1.0  NC2.5   CNT  \n",
              "0            939.735   0.00   0.00   0.00  0.000  0.000     0  \n",
              "1            939.744   0.00   0.00   0.00  0.000  0.000     1  \n",
              "2            939.738   0.00   0.00   0.00  0.000  0.000     2  \n",
              "3            939.736   0.00   0.00   0.00  0.000  0.000     3  \n",
              "4            939.744   0.00   0.00   0.00  0.000  0.000     4  \n",
              "...              ...    ...    ...    ...    ...    ...   ...  \n",
              "62625        936.670   0.63   0.65   4.32  0.673  0.015  5739  \n",
              "62626        936.678   0.61   0.63   4.18  0.652  0.015  5740  \n",
              "62627        936.687   0.57   0.60   3.95  0.617  0.014  5741  \n",
              "62628        936.680   0.57   0.59   3.92  0.611  0.014  5742  \n",
              "62629        936.676   0.57   0.59   3.90  0.607  0.014  5743  \n",
              "\n",
              "[62630 rows x 13 columns]"
            ]
          },
          "execution_count": 12,
          "metadata": {},
          "output_type": "execute_result"
        }
      ],
      "source": [
        "x=data.iloc[:,0:13]\n",
        "x"
      ]
    },
    {
      "cell_type": "code",
      "execution_count": 13,
      "id": "d243b89d",
      "metadata": {
        "execution": {
          "iopub.execute_input": "2022-10-01T17:35:01.581708Z",
          "iopub.status.busy": "2022-10-01T17:35:01.580530Z",
          "iopub.status.idle": "2022-10-01T17:35:01.589423Z",
          "shell.execute_reply": "2022-10-01T17:35:01.588561Z"
        },
        "id": "d243b89d",
        "outputId": "d6070719-8b57-406e-c5ce-b0bc99145694",
        "papermill": {
          "duration": 0.019585,
          "end_time": "2022-10-01T17:35:01.591617",
          "exception": false,
          "start_time": "2022-10-01T17:35:01.572032",
          "status": "completed"
        },
        "tags": []
      },
      "outputs": [
        {
          "data": {
            "text/plain": [
              "0        0\n",
              "1        0\n",
              "2        0\n",
              "3        0\n",
              "4        0\n",
              "        ..\n",
              "62625    0\n",
              "62626    0\n",
              "62627    0\n",
              "62628    0\n",
              "62629    0\n",
              "Name: Fire Alarm, Length: 62630, dtype: int64"
            ]
          },
          "execution_count": 13,
          "metadata": {},
          "output_type": "execute_result"
        }
      ],
      "source": [
        "y=data.iloc[:,-1]\n",
        "y"
      ]
    },
    {
      "cell_type": "code",
      "execution_count": 14,
      "id": "0d31f4b9",
      "metadata": {
        "execution": {
          "iopub.execute_input": "2022-10-01T17:35:01.607285Z",
          "iopub.status.busy": "2022-10-01T17:35:01.606161Z",
          "iopub.status.idle": "2022-10-01T17:35:01.649246Z",
          "shell.execute_reply": "2022-10-01T17:35:01.648143Z"
        },
        "id": "0d31f4b9",
        "papermill": {
          "duration": 0.053653,
          "end_time": "2022-10-01T17:35:01.651926",
          "exception": false,
          "start_time": "2022-10-01T17:35:01.598273",
          "status": "completed"
        },
        "tags": []
      },
      "outputs": [],
      "source": [
        "x_scaled=data_scaled.fit_transform(x)"
      ]
    },
    {
      "cell_type": "code",
      "execution_count": 15,
      "id": "2aa1c515",
      "metadata": {
        "execution": {
          "iopub.execute_input": "2022-10-01T17:35:01.666971Z",
          "iopub.status.busy": "2022-10-01T17:35:01.666598Z",
          "iopub.status.idle": "2022-10-01T17:35:01.740042Z",
          "shell.execute_reply": "2022-10-01T17:35:01.738949Z"
        },
        "id": "2aa1c515",
        "papermill": {
          "duration": 0.084154,
          "end_time": "2022-10-01T17:35:01.742866",
          "exception": false,
          "start_time": "2022-10-01T17:35:01.658712",
          "status": "completed"
        },
        "tags": []
      },
      "outputs": [],
      "source": [
        "from sklearn.model_selection import train_test_split\n",
        "xtrain, xtest, ytrain, ytest= train_test_split(x_scaled, y, test_size=0.25, random_state=101)"
      ]
    },
    {
      "cell_type": "markdown",
      "id": "7b7c38b7",
      "metadata": {
        "id": "7b7c38b7"
      },
      "source": [
        "# SVM Modeling"
      ]
    },
    {
      "cell_type": "code",
      "execution_count": 16,
      "id": "bbd7d57d",
      "metadata": {
        "id": "bbd7d57d"
      },
      "outputs": [],
      "source": [
        "#Import svm model\n",
        "from sklearn import svm"
      ]
    },
    {
      "cell_type": "code",
      "execution_count": 17,
      "id": "07dc0094",
      "metadata": {
        "id": "07dc0094"
      },
      "outputs": [],
      "source": [
        "#Create a svm Classifier\n",
        "clf = svm.SVC(kernel='linear') # Linear Kernel"
      ]
    },
    {
      "cell_type": "code",
      "execution_count": 18,
      "id": "25432e86",
      "metadata": {
        "id": "25432e86",
        "outputId": "7fcf2261-6686-49e0-a851-d139a5254f99"
      },
      "outputs": [],
      "source": [
        "#Train the model using the training sets\n",
        "clf.fit(xtrain, ytrain)"
      ]
    },
    {
      "cell_type": "code",
      "execution_count": null,
      "id": "e6ecc1bf",
      "metadata": {
        "id": "e6ecc1bf"
      },
      "outputs": [],
      "source": [
        "#Predict the response for test dataset\n",
        "y_pred = clf.predict(xtest)"
      ]
    },
    {
      "cell_type": "code",
      "execution_count": null,
      "id": "e74189f9",
      "metadata": {
        "id": "e74189f9",
        "outputId": "249685b4-974b-45fa-9057-de863bf3b686"
      },
      "outputs": [
        {
          "name": "stdout",
          "output_type": "stream",
          "text": [
            "Number of mislabeled points out of a total 250 points : 2\n"
          ]
        }
      ],
      "source": [
        "print(\"Number of mislabeled points out of a total %d points : %d\" % (xtest.shape[0], (ytest != y_pred).sum()))"
      ]
    },
    {
      "cell_type": "code",
      "execution_count": null,
      "id": "eace5ade",
      "metadata": {
        "id": "eace5ade",
        "outputId": "aefb7dbe-a862-48d8-aef4-5557b2de4fae"
      },
      "outputs": [
        {
          "name": "stdout",
          "output_type": "stream",
          "text": [
            "accuracy: 0.992\n"
          ]
        }
      ],
      "source": [
        "print(\"accuracy:\", 1 - (ytest != y_pred).sum()/xtest.shape[0])\n",
        "svm_accuracy = 1 - (ytest != y_pred).sum()/xtest.shape[0]"
      ]
    },
    {
      "cell_type": "markdown",
      "id": "9461c761",
      "metadata": {
        "id": "9461c761"
      },
      "source": [
        "# SVM Confusion Matrix"
      ]
    },
    {
      "cell_type": "code",
      "execution_count": null,
      "id": "92391068",
      "metadata": {
        "id": "92391068",
        "outputId": "1cccda26-b626-40c6-a00f-665b3d2b2219"
      },
      "outputs": [
        {
          "data": {
            "image/png": "[encoded data removed]",
            "text/plain": [
              "<Figure size 432x288 with 2 Axes>"
            ]
          },
          "metadata": {
            "needs_background": "light"
          },
          "output_type": "display_data"
        }
      ],
      "source": [
        "from sklearn import metrics\n",
        "confusion_matrix = metrics.confusion_matrix(ytest, y_pred)\n",
        "cm_display = metrics.ConfusionMatrixDisplay(confusion_matrix = confusion_matrix, display_labels = [False, True])\n",
        "import matplotlib.pyplot as plt\n",
        "cm_display.plot()\n",
        "plt.show()"
      ]
    },
    {
      "cell_type": "markdown",
      "id": "682786f8",
      "metadata": {
        "id": "682786f8"
      },
      "source": [
        "# KNN Modeling"
      ]
    },
    {
      "cell_type": "code",
      "execution_count": null,
      "id": "218378f1",
      "metadata": {
        "id": "218378f1",
        "outputId": "765a9628-2b9a-4f17-a0db-a1bf32e1d424"
      },
      "outputs": [
        {
          "data": {
            "text/plain": [
              "KNeighborsClassifier(n_neighbors=7)"
            ]
          },
          "execution_count": 22,
          "metadata": {},
          "output_type": "execute_result"
        }
      ],
      "source": [
        "from sklearn.neighbors import KNeighborsClassifier\n",
        "\n",
        "knn = KNeighborsClassifier(n_neighbors=7)\n",
        "\n",
        "knn.fit(xtrain, ytrain)"
      ]
    },
    {
      "cell_type": "code",
      "execution_count": null,
      "id": "3fbbb339",
      "metadata": {
        "id": "3fbbb339"
      },
      "outputs": [],
      "source": [
        "y_pred = knn.predict(xtest)"
      ]
    },
    {
      "cell_type": "code",
      "execution_count": null,
      "id": "34ff1335",
      "metadata": {
        "id": "34ff1335",
        "outputId": "1c1a1d91-f2dc-4a03-d339-e80ba670fc93"
      },
      "outputs": [
        {
          "name": "stdout",
          "output_type": "stream",
          "text": [
            "Number of mislabeled points out of a total 250 points : 3\n"
          ]
        }
      ],
      "source": [
        "print(\"Number of mislabeled points out of a total %d points : %d\" % (xtest.shape[0], (ytest != y_pred).sum()))"
      ]
    },
    {
      "cell_type": "code",
      "execution_count": null,
      "id": "93df0094",
      "metadata": {
        "id": "93df0094",
        "outputId": "ea8ad5d6-5056-43b0-899e-e3377ca3a6bc"
      },
      "outputs": [
        {
          "name": "stdout",
          "output_type": "stream",
          "text": [
            "accuracy: 0.988\n"
          ]
        }
      ],
      "source": [
        "print(\"accuracy:\", 1 - (ytest != y_pred).sum()/xtest.shape[0])\n",
        "knn_accuracy = 1 - (ytest != y_pred).sum()/xtest.shape[0]"
      ]
    },
    {
      "cell_type": "markdown",
      "id": "113c65bb",
      "metadata": {
        "id": "113c65bb"
      },
      "source": [
        "# KNN Confusion Matrix"
      ]
    },
    {
      "cell_type": "code",
      "execution_count": null,
      "id": "6dbcc025",
      "metadata": {
        "id": "6dbcc025",
        "outputId": "94057935-0e62-4e09-c6c2-247ead042421"
      },
      "outputs": [
        {
          "data": {
            "image/png": "[encoded data removed]",
            "text/plain": [
              "<Figure size 432x288 with 2 Axes>"
            ]
          },
          "metadata": {
            "needs_background": "light"
          },
          "output_type": "display_data"
        }
      ],
      "source": [
        "from sklearn import metrics\n",
        "confusion_matrix = metrics.confusion_matrix(ytest, y_pred)\n",
        "cm_display = metrics.ConfusionMatrixDisplay(confusion_matrix = confusion_matrix, display_labels = [False, True])\n",
        "import matplotlib.pyplot as plt\n",
        "cm_display.plot()\n",
        "plt.show()"
      ]
    },
    {
      "cell_type": "markdown",
      "id": "9735dcf5",
      "metadata": {
        "id": "9735dcf5"
      },
      "source": [
        "# Ensemble learning"
      ]
    },
    {
      "cell_type": "markdown",
      "id": "a3339f2b",
      "metadata": {
        "id": "a3339f2b"
      },
      "source": [
        "# Adaboost Classifier"
      ]
    },
    {
      "cell_type": "code",
      "execution_count": null,
      "id": "362f76f4",
      "metadata": {
        "id": "362f76f4"
      },
      "outputs": [],
      "source": [
        "# Import the AdaBoost classifier\n",
        "from sklearn.ensemble import AdaBoostClassifier\n",
        "\n",
        "\n",
        "# Create adaboost classifer object\n",
        "abc = AdaBoostClassifier(n_estimators=50, learning_rate=1, random_state=0)\n",
        "\n",
        "# Train Adaboost Classifer\n",
        "model1 = abc.fit(xtrain, ytrain)\n",
        "\n",
        "\n",
        "#Predict the response for test dataset\n",
        "y_pred = model1.predict(xtest)"
      ]
    },
    {
      "cell_type": "code",
      "execution_count": null,
      "id": "6035393a",
      "metadata": {
        "id": "6035393a",
        "outputId": "5a2a64bc-79e5-442c-fbd4-2e764f97c65c"
      },
      "outputs": [
        {
          "name": "stdout",
          "output_type": "stream",
          "text": [
            "AdaBoost Classifier Model Accuracy: 1.0\n"
          ]
        }
      ],
      "source": [
        "#import scikit-learn metrics module for accuracy calculation\n",
        "from sklearn.metrics import accuracy_score\n",
        "\n",
        "\n",
        "# calculate and print model accuracy\n",
        "print(\"AdaBoost Classifier Model Accuracy:\", accuracy_score(ytest, y_pred))\n",
        "adaboost_accuracy = accuracy_score(ytest, y_pred)"
      ]
    },
    {
      "cell_type": "code",
      "execution_count": null,
      "id": "b2af21a3",
      "metadata": {
        "id": "b2af21a3",
        "outputId": "854cb656-faa3-4e41-8dfd-670ebca888a1"
      },
      "outputs": [
        {
          "data": {
            "image/png": "[encoded data removed]",
            "text/plain": [
              "<Figure size 432x288 with 2 Axes>"
            ]
          },
          "metadata": {
            "needs_background": "light"
          },
          "output_type": "display_data"
        }
      ],
      "source": [
        "from sklearn import metrics\n",
        "confusion_matrix = metrics.confusion_matrix(ytest, y_pred)\n",
        "cm_display = metrics.ConfusionMatrixDisplay(confusion_matrix = confusion_matrix, display_labels = [False, True])\n",
        "import matplotlib.pyplot as plt\n",
        "cm_display.plot()\n",
        "plt.show()"
      ]
    },
    {
      "cell_type": "markdown",
      "id": "c05c2dfa",
      "metadata": {
        "id": "c05c2dfa"
      },
      "source": [
        "# XGBoost Classifier"
      ]
    },
    {
      "cell_type": "code",
      "execution_count": null,
      "id": "898ec4c3",
      "metadata": {
        "id": "898ec4c3"
      },
      "outputs": [],
      "source": [
        "import xgboost as xgb\n",
        "model=xgb.XGBClassifier(random_state=1,learning_rate=0.01)\n",
        "model.fit(xtrain, ytrain)\n",
        "y_pred = model.predict(xtest)"
      ]
    },
    {
      "cell_type": "code",
      "execution_count": null,
      "id": "194a2a62",
      "metadata": {
        "id": "194a2a62",
        "outputId": "4e957d85-e3b4-4566-e703-716612c494b4"
      },
      "outputs": [
        {
          "name": "stdout",
          "output_type": "stream",
          "text": [
            "AdaBoost Classifier Model Accuracy: 1.0\n"
          ]
        }
      ],
      "source": [
        "#import scikit-learn metrics module for accuracy calculation\n",
        "from sklearn.metrics import accuracy_score\n",
        "\n",
        "\n",
        "# calculate and print model accuracy\n",
        "print(\"AdaBoost Classifier Model Accuracy:\", accuracy_score(ytest, y_pred))\n",
        "xgboost_accuracy = accuracy_score(ytest, y_pred)"
      ]
    },
    {
      "cell_type": "code",
      "execution_count": null,
      "id": "f10d74de",
      "metadata": {
        "id": "f10d74de",
        "outputId": "329643ca-2ada-4779-ab29-3ef4525b010a"
      },
      "outputs": [
        {
          "data": {
            "image/png": "[encoded data removed]",
            "text/plain": [
              "<Figure size 432x288 with 2 Axes>"
            ]
          },
          "metadata": {
            "needs_background": "light"
          },
          "output_type": "display_data"
        }
      ],
      "source": [
        "from sklearn import metrics\n",
        "confusion_matrix = metrics.confusion_matrix(ytest, y_pred)\n",
        "cm_display = metrics.ConfusionMatrixDisplay(confusion_matrix = confusion_matrix, display_labels = [False, True])\n",
        "import matplotlib.pyplot as plt\n",
        "cm_display.plot()\n",
        "plt.show()"
      ]
    },
    {
      "cell_type": "code",
      "execution_count": null,
      "id": "71db3d09",
      "metadata": {
        "id": "71db3d09",
        "outputId": "5045a47b-746f-41d5-b1ea-72377997b55f"
      },
      "outputs": [
        {
          "name": "stdout",
          "output_type": "stream",
          "text": [
            "KNN Accuracy: 0.988\n",
            "SVM Accuracy: 0.992\n",
            "AdaBoost Accuracy: 1.0\n",
            "XGBoost Accuracy: 1.0\n"
          ]
        }
      ],
      "source": [
        "print(\"KNN Accuracy: \" + str(knn_accuracy))\n",
        "print(\"SVM Accuracy: \" + str(svm_accuracy))\n",
        "print(\"AdaBoost Accuracy: \" + str(adaboost_accuracy))\n",
        "print(\"XGBoost Accuracy: \" + str(xgboost_accuracy))"
      ]
    },
    {
      "cell_type": "code",
      "execution_count": null,
      "id": "711f4165",
      "metadata": {
        "id": "711f4165"
      },
      "outputs": [],
      "source": []
    }
  ],
  "metadata": {
    "colab": {
      "provenance": []
    },
    "kernelspec": {
      "display_name": "Python 3 (ipykernel)",
      "language": "python",
      "name": "python3"
    },
    "language_info": {
      "codemirror_mode": {
        "name": "ipython",
        "version": 3
      },
      "file_extension": ".py",
      "mimetype": "text/x-python",
      "name": "python",
      "nbconvert_exporter": "python",
      "pygments_lexer": "ipython3",
      "version": "3.11.5"
    },
    "papermill": {
      "default_parameters": {},
      "duration": 61.784174,
      "end_time": "2022-10-01T17:35:52.777312",
      "environment_variables": {},
      "exception": null,
      "input_path": "__notebook__.ipynb",
      "output_path": "__notebook__.ipynb",
      "parameters": {},
      "start_time": "2022-10-01T17:34:50.993138",
      "version": "2.3.4"
    }
  },
  "nbformat": 4,
  "nbformat_minor": 5
}
