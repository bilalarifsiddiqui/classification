{
  "cells": [
    {
      "cell_type": "code",
      "execution_count": 1,
      "id": "327496fd",
      "metadata": {
        "execution": {
          "iopub.execute_input": "2022-10-01T17:34:59.948482Z",
          "iopub.status.busy": "2022-10-01T17:34:59.947823Z",
          "iopub.status.idle": "2022-10-01T17:35:00.242303Z",
          "shell.execute_reply": "2022-10-01T17:35:00.241229Z"
        },
        "id": "327496fd",
        "papermill": {
          "duration": 0.303992,
          "end_time": "2022-10-01T17:35:00.245137",
          "exception": false,
          "start_time": "2022-10-01T17:34:59.941145",
          "status": "completed"
        },
        "tags": []
      },
      "outputs": [],
      "source": [
        "import numpy as np\n",
        "import matplotlib.pyplot as plt\n",
        "import seaborn as sns\n",
        "import pandas as pd\n",
        "from sklearn.model_selection import train_test_split\n",
        "from sklearn.preprocessing import StandardScaler, RobustScaler\n",
        "from sklearn.ensemble import RandomForestClassifier, AdaBoostClassifier\n",
        "from sklearn.metrics import accuracy_score, confusion_matrix, classification_report\n",
        "import joblib\n",
        "from sklearn import metrics, svm\n",
        "from sklearn.neighbors import KNeighborsClassifier\n",
        "import xgboost as xgb\n"
      ]
    },
    {
      "cell_type": "code",
      "execution_count": 2,
      "id": "69ff29fb",
      "metadata": {},
      "outputs": [],
      "source": [
        "data=pd.read_csv(r'smoke_detection_iot.csv')"
      ]
    },
    {
      "cell_type": "code",
      "execution_count": 3,
      "id": "cc8d2049",
      "metadata": {
        "colab": {
          "base_uri": "https://localhost:8080/"
        },
        "id": "cc8d2049",
        "outputId": "08f40f9c-f594-4c06-b015-4d066ce64634"
      },
      "outputs": [
        {
          "name": "stdout",
          "output_type": "stream",
          "text": [
            "(1500, 16)\n",
            "Number of Rows and Columns :  (1500, 16)\n"
          ]
        },
        {
          "data": {
            "text/plain": [
              "1500"
            ]
          },
          "execution_count": 3,
          "metadata": {},
          "output_type": "execute_result"
        }
      ],
      "source": [
        "data = data.sample(n = 1500)\n",
        "print(data.shape)\n",
        "print(\"Number of Rows and Columns : \",data.shape)\n",
        "\n",
        "len(data)\n"
      ]
    },
    {
      "cell_type": "markdown",
      "id": "67bcc70c",
      "metadata": {
        "id": "67bcc70c"
      },
      "source": [
        "# EDA"
      ]
    },
    {
      "cell_type": "code",
      "execution_count": 4,
      "id": "554e37eb",
      "metadata": {
        "execution": {
          "iopub.execute_input": "2022-10-01T17:35:00.261710Z",
          "iopub.status.busy": "2022-10-01T17:35:00.261252Z",
          "iopub.status.idle": "2022-10-01T17:35:00.269528Z",
          "shell.execute_reply": "2022-10-01T17:35:00.268238Z"
        },
        "id": "554e37eb",
        "outputId": "d2c94636-9b60-4ea5-d4d0-58441f92a3ec",
        "papermill": {
          "duration": 0.017754,
          "end_time": "2022-10-01T17:35:00.272004",
          "exception": false,
          "start_time": "2022-10-01T17:35:00.254250",
          "status": "completed"
        },
        "tags": []
      },
      "outputs": [
        {
          "data": {
            "text/plain": [
              "Index(['Unnamed: 0', 'UTC', 'Temperature[C]', 'Humidity[%]', 'TVOC[ppb]',\n",
              "       'eCO2[ppm]', 'Raw H2', 'Raw Ethanol', 'Pressure[hPa]', 'PM1.0', 'PM2.5',\n",
              "       'NC0.5', 'NC1.0', 'NC2.5', 'CNT', 'Fire Alarm'],\n",
              "      dtype='object')"
            ]
          },
          "execution_count": 4,
          "metadata": {},
          "output_type": "execute_result"
        }
      ],
      "source": [
        "data.columns"
      ]
    },
    {
      "cell_type": "code",
      "execution_count": 5,
      "id": "ca14393d",
      "metadata": {
        "execution": {
          "iopub.execute_input": "2022-10-01T17:35:00.285342Z",
          "iopub.status.busy": "2022-10-01T17:35:00.284627Z",
          "iopub.status.idle": "2022-10-01T17:35:00.313999Z",
          "shell.execute_reply": "2022-10-01T17:35:00.312260Z"
        },
        "id": "ca14393d",
        "outputId": "036fae10-4030-403e-9492-92f7df6346cc",
        "papermill": {
          "duration": 0.038935,
          "end_time": "2022-10-01T17:35:00.316641",
          "exception": false,
          "start_time": "2022-10-01T17:35:00.277706",
          "status": "completed"
        },
        "tags": []
      },
      "outputs": [
        {
          "name": "stdout",
          "output_type": "stream",
          "text": [
            "<class 'pandas.core.frame.DataFrame'>\n",
            "Index: 1500 entries, 12640 to 35579\n",
            "Data columns (total 16 columns):\n",
            " #   Column          Non-Null Count  Dtype  \n",
            "---  ------          --------------  -----  \n",
            " 0   Unnamed: 0      1500 non-null   int64  \n",
            " 1   UTC             1500 non-null   int64  \n",
            " 2   Temperature[C]  1500 non-null   float64\n",
            " 3   Humidity[%]     1500 non-null   float64\n",
            " 4   TVOC[ppb]       1500 non-null   int64  \n",
            " 5   eCO2[ppm]       1500 non-null   int64  \n",
            " 6   Raw H2          1500 non-null   int64  \n",
            " 7   Raw Ethanol     1500 non-null   int64  \n",
            " 8   Pressure[hPa]   1500 non-null   float64\n",
            " 9   PM1.0           1500 non-null   float64\n",
            " 10  PM2.5           1500 non-null   float64\n",
            " 11  NC0.5           1500 non-null   float64\n",
            " 12  NC1.0           1500 non-null   float64\n",
            " 13  NC2.5           1500 non-null   float64\n",
            " 14  CNT             1500 non-null   int64  \n",
            " 15  Fire Alarm      1500 non-null   int64  \n",
            "dtypes: float64(8), int64(8)\n",
            "memory usage: 199.2 KB\n"
          ]
        }
      ],
      "source": [
        "data.info()"
      ]
    },
    {
      "cell_type": "code",
      "execution_count": 6,
      "id": "32c30cdd",
      "metadata": {
        "execution": {
          "iopub.execute_input": "2022-10-01T17:35:00.331289Z",
          "iopub.status.busy": "2022-10-01T17:35:00.330418Z",
          "iopub.status.idle": "2022-10-01T17:35:00.339806Z",
          "shell.execute_reply": "2022-10-01T17:35:00.338593Z"
        },
        "id": "32c30cdd",
        "papermill": {
          "duration": 0.019469,
          "end_time": "2022-10-01T17:35:00.342367",
          "exception": false,
          "start_time": "2022-10-01T17:35:00.322898",
          "status": "completed"
        },
        "tags": []
      },
      "outputs": [
        {
          "name": "stdout",
          "output_type": "stream",
          "text": [
            "Successfully Deleted Columns\n"
          ]
        }
      ],
      "source": [
        "try:\n",
        "    df = data.drop(['Unnamed: 0','UTC'], axis=1, inplace=True)\n",
        "    print(\"Successfully Deleted Columns\")\n",
        "except:\n",
        "    print(\"Columns cannot be deleted\")"
      ]
    },
    {
      "cell_type": "code",
      "execution_count": 7,
      "id": "c19f5e8f",
      "metadata": {
        "execution": {
          "iopub.execute_input": "2022-10-01T17:35:00.356373Z",
          "iopub.status.busy": "2022-10-01T17:35:00.355953Z",
          "iopub.status.idle": "2022-10-01T17:35:00.376734Z",
          "shell.execute_reply": "2022-10-01T17:35:00.375664Z"
        },
        "id": "c19f5e8f",
        "outputId": "c52f4766-4445-4699-fafa-d2f9eacb7504",
        "papermill": {
          "duration": 0.03058,
          "end_time": "2022-10-01T17:35:00.379224",
          "exception": false,
          "start_time": "2022-10-01T17:35:00.348644",
          "status": "completed"
        },
        "tags": []
      },
      "outputs": [
        {
          "data": {
            "text/html": [
              "<div>\n",
              "<style scoped>\n",
              "    .dataframe tbody tr th:only-of-type {\n",
              "        vertical-align: middle;\n",
              "    }\n",
              "\n",
              "    .dataframe tbody tr th {\n",
              "        vertical-align: top;\n",
              "    }\n",
              "\n",
              "    .dataframe thead th {\n",
              "        text-align: right;\n",
              "    }\n",
              "</style>\n",
              "<table border=\"1\" class=\"dataframe\">\n",
              "  <thead>\n",
              "    <tr style=\"text-align: right;\">\n",
              "      <th></th>\n",
              "      <th>Temperature[C]</th>\n",
              "      <th>Humidity[%]</th>\n",
              "      <th>TVOC[ppb]</th>\n",
              "      <th>eCO2[ppm]</th>\n",
              "      <th>Raw H2</th>\n",
              "      <th>Raw Ethanol</th>\n",
              "      <th>Pressure[hPa]</th>\n",
              "      <th>PM1.0</th>\n",
              "      <th>PM2.5</th>\n",
              "      <th>NC0.5</th>\n",
              "      <th>NC1.0</th>\n",
              "      <th>NC2.5</th>\n",
              "      <th>CNT</th>\n",
              "      <th>Fire Alarm</th>\n",
              "    </tr>\n",
              "  </thead>\n",
              "  <tbody>\n",
              "    <tr>\n",
              "      <th>12640</th>\n",
              "      <td>20.447</td>\n",
              "      <td>51.63</td>\n",
              "      <td>1124</td>\n",
              "      <td>568</td>\n",
              "      <td>12823</td>\n",
              "      <td>19444</td>\n",
              "      <td>938.966</td>\n",
              "      <td>2.19</td>\n",
              "      <td>2.27</td>\n",
              "      <td>15.05</td>\n",
              "      <td>2.348</td>\n",
              "      <td>0.053</td>\n",
              "      <td>12640</td>\n",
              "      <td>1</td>\n",
              "    </tr>\n",
              "    <tr>\n",
              "      <th>41804</th>\n",
              "      <td>26.710</td>\n",
              "      <td>48.75</td>\n",
              "      <td>1109</td>\n",
              "      <td>400</td>\n",
              "      <td>12896</td>\n",
              "      <td>19450</td>\n",
              "      <td>938.766</td>\n",
              "      <td>1.44</td>\n",
              "      <td>1.50</td>\n",
              "      <td>9.92</td>\n",
              "      <td>1.547</td>\n",
              "      <td>0.035</td>\n",
              "      <td>16810</td>\n",
              "      <td>1</td>\n",
              "    </tr>\n",
              "    <tr>\n",
              "      <th>54760</th>\n",
              "      <td>25.190</td>\n",
              "      <td>44.84</td>\n",
              "      <td>0</td>\n",
              "      <td>400</td>\n",
              "      <td>13275</td>\n",
              "      <td>21185</td>\n",
              "      <td>937.429</td>\n",
              "      <td>1.80</td>\n",
              "      <td>1.87</td>\n",
              "      <td>12.40</td>\n",
              "      <td>1.934</td>\n",
              "      <td>0.044</td>\n",
              "      <td>3618</td>\n",
              "      <td>0</td>\n",
              "    </tr>\n",
              "    <tr>\n",
              "      <th>32821</th>\n",
              "      <td>20.780</td>\n",
              "      <td>50.62</td>\n",
              "      <td>289</td>\n",
              "      <td>400</td>\n",
              "      <td>13118</td>\n",
              "      <td>19974</td>\n",
              "      <td>939.427</td>\n",
              "      <td>0.45</td>\n",
              "      <td>0.47</td>\n",
              "      <td>3.09</td>\n",
              "      <td>0.482</td>\n",
              "      <td>0.011</td>\n",
              "      <td>7827</td>\n",
              "      <td>1</td>\n",
              "    </tr>\n",
              "    <tr>\n",
              "      <th>47472</th>\n",
              "      <td>24.850</td>\n",
              "      <td>51.94</td>\n",
              "      <td>1373</td>\n",
              "      <td>410</td>\n",
              "      <td>12959</td>\n",
              "      <td>19382</td>\n",
              "      <td>938.761</td>\n",
              "      <td>2.08</td>\n",
              "      <td>2.16</td>\n",
              "      <td>14.29</td>\n",
              "      <td>2.229</td>\n",
              "      <td>0.050</td>\n",
              "      <td>22478</td>\n",
              "      <td>1</td>\n",
              "    </tr>\n",
              "  </tbody>\n",
              "</table>\n",
              "</div>"
            ],
            "text/plain": [
              "       Temperature[C]  Humidity[%]  TVOC[ppb]  eCO2[ppm]  Raw H2  Raw Ethanol  \\\n",
              "12640          20.447        51.63       1124        568   12823        19444   \n",
              "41804          26.710        48.75       1109        400   12896        19450   \n",
              "54760          25.190        44.84          0        400   13275        21185   \n",
              "32821          20.780        50.62        289        400   13118        19974   \n",
              "47472          24.850        51.94       1373        410   12959        19382   \n",
              "\n",
              "       Pressure[hPa]  PM1.0  PM2.5  NC0.5  NC1.0  NC2.5    CNT  Fire Alarm  \n",
              "12640        938.966   2.19   2.27  15.05  2.348  0.053  12640           1  \n",
              "41804        938.766   1.44   1.50   9.92  1.547  0.035  16810           1  \n",
              "54760        937.429   1.80   1.87  12.40  1.934  0.044   3618           0  \n",
              "32821        939.427   0.45   0.47   3.09  0.482  0.011   7827           1  \n",
              "47472        938.761   2.08   2.16  14.29  2.229  0.050  22478           1  "
            ]
          },
          "execution_count": 7,
          "metadata": {},
          "output_type": "execute_result"
        }
      ],
      "source": [
        "data.head(5)\n",
        "# data.tail()"
      ]
    },
    {
      "cell_type": "code",
      "execution_count": 8,
      "id": "cc4c12df",
      "metadata": {
        "execution": {
          "iopub.execute_input": "2022-10-01T17:35:00.393369Z",
          "iopub.status.busy": "2022-10-01T17:35:00.392940Z",
          "iopub.status.idle": "2022-10-01T17:35:00.403853Z",
          "shell.execute_reply": "2022-10-01T17:35:00.402750Z"
        },
        "id": "cc4c12df",
        "outputId": "09796084-e869-4573-b9ad-e8ac5451439c",
        "papermill": {
          "duration": 0.020991,
          "end_time": "2022-10-01T17:35:00.406275",
          "exception": false,
          "start_time": "2022-10-01T17:35:00.385284",
          "status": "completed"
        },
        "tags": []
      },
      "outputs": [
        {
          "data": {
            "text/plain": [
              "Temperature[C]    0\n",
              "Humidity[%]       0\n",
              "TVOC[ppb]         0\n",
              "eCO2[ppm]         0\n",
              "Raw H2            0\n",
              "Raw Ethanol       0\n",
              "Pressure[hPa]     0\n",
              "PM1.0             0\n",
              "PM2.5             0\n",
              "NC0.5             0\n",
              "NC1.0             0\n",
              "NC2.5             0\n",
              "CNT               0\n",
              "Fire Alarm        0\n",
              "dtype: int64"
            ]
          },
          "execution_count": 8,
          "metadata": {},
          "output_type": "execute_result"
        }
      ],
      "source": [
        "# Checking Null Values\n",
        "data.isna().sum()"
      ]
    },
    {
      "cell_type": "code",
      "execution_count": 9,
      "id": "1f00a93c",
      "metadata": {},
      "outputs": [
        {
          "data": {
            "text/plain": [
              "1500"
            ]
          },
          "execution_count": 9,
          "metadata": {},
          "output_type": "execute_result"
        }
      ],
      "source": [
        "len(data)"
      ]
    },
    {
      "cell_type": "code",
      "execution_count": 10,
      "id": "422f7df3",
      "metadata": {
        "execution": {
          "iopub.execute_input": "2022-10-01T17:35:00.420298Z",
          "iopub.status.busy": "2022-10-01T17:35:00.419909Z",
          "iopub.status.idle": "2022-10-01T17:35:00.429391Z",
          "shell.execute_reply": "2022-10-01T17:35:00.428316Z"
        },
        "id": "422f7df3",
        "outputId": "859444e5-9723-4024-84c9-039762eb6b11",
        "papermill": {
          "duration": 0.019284,
          "end_time": "2022-10-01T17:35:00.431737",
          "exception": false,
          "start_time": "2022-10-01T17:35:00.412453",
          "status": "completed"
        },
        "tags": []
      },
      "outputs": [
        {
          "data": {
            "text/plain": [
              "Fire Alarm\n",
              "1    1097\n",
              "0     403\n",
              "Name: count, dtype: int64"
            ]
          },
          "execution_count": 10,
          "metadata": {},
          "output_type": "execute_result"
        }
      ],
      "source": [
        "# Checking total counts\n",
        "data['Fire Alarm'].value_counts()"
      ]
    },
    {
      "cell_type": "code",
      "execution_count": 11,
      "id": "75dd0e2b",
      "metadata": {
        "execution": {
          "iopub.execute_input": "2022-10-01T17:35:00.445989Z",
          "iopub.status.busy": "2022-10-01T17:35:00.445615Z",
          "iopub.status.idle": "2022-10-01T17:35:01.512879Z",
          "shell.execute_reply": "2022-10-01T17:35:01.511711Z"
        },
        "id": "75dd0e2b",
        "papermill": {
          "duration": 1.077662,
          "end_time": "2022-10-01T17:35:01.515636",
          "exception": false,
          "start_time": "2022-10-01T17:35:00.437974",
          "status": "completed"
        },
        "tags": []
      },
      "outputs": [
        {
          "name": "stdout",
          "output_type": "stream",
          "text": [
            "RobustScaler()\n"
          ]
        }
      ],
      "source": [
        "# Using Robust Scaler as preprocessing because it is robust to outliers.\n",
        "\n",
        "data_scaled= RobustScaler()\n",
        "print(data_scaled)"
      ]
    },
    {
      "cell_type": "code",
      "execution_count": 12,
      "id": "c046b290",
      "metadata": {
        "execution": {
          "iopub.execute_input": "2022-10-01T17:35:01.529828Z",
          "iopub.status.busy": "2022-10-01T17:35:01.529405Z",
          "iopub.status.idle": "2022-10-01T17:35:01.562798Z",
          "shell.execute_reply": "2022-10-01T17:35:01.561865Z"
        },
        "id": "c046b290",
        "outputId": "14463b66-be8b-49e0-fdaf-0731715a0a2e",
        "papermill": {
          "duration": 0.043342,
          "end_time": "2022-10-01T17:35:01.565372",
          "exception": false,
          "start_time": "2022-10-01T17:35:01.522030",
          "status": "completed"
        },
        "tags": []
      },
      "outputs": [
        {
          "data": {
            "text/html": [
              "<div>\n",
              "<style scoped>\n",
              "    .dataframe tbody tr th:only-of-type {\n",
              "        vertical-align: middle;\n",
              "    }\n",
              "\n",
              "    .dataframe tbody tr th {\n",
              "        vertical-align: top;\n",
              "    }\n",
              "\n",
              "    .dataframe thead th {\n",
              "        text-align: right;\n",
              "    }\n",
              "</style>\n",
              "<table border=\"1\" class=\"dataframe\">\n",
              "  <thead>\n",
              "    <tr style=\"text-align: right;\">\n",
              "      <th></th>\n",
              "      <th>Temperature[C]</th>\n",
              "      <th>Humidity[%]</th>\n",
              "      <th>TVOC[ppb]</th>\n",
              "      <th>eCO2[ppm]</th>\n",
              "      <th>Raw H2</th>\n",
              "      <th>Raw Ethanol</th>\n",
              "      <th>Pressure[hPa]</th>\n",
              "      <th>PM1.0</th>\n",
              "      <th>PM2.5</th>\n",
              "      <th>NC0.5</th>\n",
              "      <th>NC1.0</th>\n",
              "      <th>NC2.5</th>\n",
              "      <th>CNT</th>\n",
              "    </tr>\n",
              "  </thead>\n",
              "  <tbody>\n",
              "    <tr>\n",
              "      <th>12640</th>\n",
              "      <td>20.447</td>\n",
              "      <td>51.63</td>\n",
              "      <td>1124</td>\n",
              "      <td>568</td>\n",
              "      <td>12823</td>\n",
              "      <td>19444</td>\n",
              "      <td>938.966</td>\n",
              "      <td>2.19</td>\n",
              "      <td>2.27</td>\n",
              "      <td>15.05</td>\n",
              "      <td>2.348</td>\n",
              "      <td>0.053</td>\n",
              "      <td>12640</td>\n",
              "    </tr>\n",
              "    <tr>\n",
              "      <th>41804</th>\n",
              "      <td>26.710</td>\n",
              "      <td>48.75</td>\n",
              "      <td>1109</td>\n",
              "      <td>400</td>\n",
              "      <td>12896</td>\n",
              "      <td>19450</td>\n",
              "      <td>938.766</td>\n",
              "      <td>1.44</td>\n",
              "      <td>1.50</td>\n",
              "      <td>9.92</td>\n",
              "      <td>1.547</td>\n",
              "      <td>0.035</td>\n",
              "      <td>16810</td>\n",
              "    </tr>\n",
              "    <tr>\n",
              "      <th>54760</th>\n",
              "      <td>25.190</td>\n",
              "      <td>44.84</td>\n",
              "      <td>0</td>\n",
              "      <td>400</td>\n",
              "      <td>13275</td>\n",
              "      <td>21185</td>\n",
              "      <td>937.429</td>\n",
              "      <td>1.80</td>\n",
              "      <td>1.87</td>\n",
              "      <td>12.40</td>\n",
              "      <td>1.934</td>\n",
              "      <td>0.044</td>\n",
              "      <td>3618</td>\n",
              "    </tr>\n",
              "    <tr>\n",
              "      <th>32821</th>\n",
              "      <td>20.780</td>\n",
              "      <td>50.62</td>\n",
              "      <td>289</td>\n",
              "      <td>400</td>\n",
              "      <td>13118</td>\n",
              "      <td>19974</td>\n",
              "      <td>939.427</td>\n",
              "      <td>0.45</td>\n",
              "      <td>0.47</td>\n",
              "      <td>3.09</td>\n",
              "      <td>0.482</td>\n",
              "      <td>0.011</td>\n",
              "      <td>7827</td>\n",
              "    </tr>\n",
              "    <tr>\n",
              "      <th>47472</th>\n",
              "      <td>24.850</td>\n",
              "      <td>51.94</td>\n",
              "      <td>1373</td>\n",
              "      <td>410</td>\n",
              "      <td>12959</td>\n",
              "      <td>19382</td>\n",
              "      <td>938.761</td>\n",
              "      <td>2.08</td>\n",
              "      <td>2.16</td>\n",
              "      <td>14.29</td>\n",
              "      <td>2.229</td>\n",
              "      <td>0.050</td>\n",
              "      <td>22478</td>\n",
              "    </tr>\n",
              "    <tr>\n",
              "      <th>...</th>\n",
              "      <td>...</td>\n",
              "      <td>...</td>\n",
              "      <td>...</td>\n",
              "      <td>...</td>\n",
              "      <td>...</td>\n",
              "      <td>...</td>\n",
              "      <td>...</td>\n",
              "      <td>...</td>\n",
              "      <td>...</td>\n",
              "      <td>...</td>\n",
              "      <td>...</td>\n",
              "      <td>...</td>\n",
              "      <td>...</td>\n",
              "    </tr>\n",
              "    <tr>\n",
              "      <th>11825</th>\n",
              "      <td>15.178</td>\n",
              "      <td>50.42</td>\n",
              "      <td>1009</td>\n",
              "      <td>589</td>\n",
              "      <td>12823</td>\n",
              "      <td>19472</td>\n",
              "      <td>939.070</td>\n",
              "      <td>2.12</td>\n",
              "      <td>2.20</td>\n",
              "      <td>14.57</td>\n",
              "      <td>2.272</td>\n",
              "      <td>0.051</td>\n",
              "      <td>11825</td>\n",
              "    </tr>\n",
              "    <tr>\n",
              "      <th>112</th>\n",
              "      <td>21.543</td>\n",
              "      <td>56.50</td>\n",
              "      <td>16</td>\n",
              "      <td>408</td>\n",
              "      <td>12536</td>\n",
              "      <td>19628</td>\n",
              "      <td>939.804</td>\n",
              "      <td>0.03</td>\n",
              "      <td>0.09</td>\n",
              "      <td>0.05</td>\n",
              "      <td>0.099</td>\n",
              "      <td>0.057</td>\n",
              "      <td>112</td>\n",
              "    </tr>\n",
              "    <tr>\n",
              "      <th>55803</th>\n",
              "      <td>50.560</td>\n",
              "      <td>14.25</td>\n",
              "      <td>627</td>\n",
              "      <td>400</td>\n",
              "      <td>13347</td>\n",
              "      <td>20520</td>\n",
              "      <td>936.837</td>\n",
              "      <td>0.97</td>\n",
              "      <td>1.01</td>\n",
              "      <td>6.68</td>\n",
              "      <td>1.042</td>\n",
              "      <td>0.024</td>\n",
              "      <td>4661</td>\n",
              "    </tr>\n",
              "    <tr>\n",
              "      <th>10798</th>\n",
              "      <td>4.094</td>\n",
              "      <td>53.37</td>\n",
              "      <td>981</td>\n",
              "      <td>664</td>\n",
              "      <td>12786</td>\n",
              "      <td>19483</td>\n",
              "      <td>939.061</td>\n",
              "      <td>2.22</td>\n",
              "      <td>2.30</td>\n",
              "      <td>15.26</td>\n",
              "      <td>2.380</td>\n",
              "      <td>0.054</td>\n",
              "      <td>10798</td>\n",
              "    </tr>\n",
              "    <tr>\n",
              "      <th>35579</th>\n",
              "      <td>25.540</td>\n",
              "      <td>50.97</td>\n",
              "      <td>921</td>\n",
              "      <td>657</td>\n",
              "      <td>12797</td>\n",
              "      <td>19505</td>\n",
              "      <td>939.086</td>\n",
              "      <td>2.35</td>\n",
              "      <td>2.44</td>\n",
              "      <td>16.14</td>\n",
              "      <td>2.518</td>\n",
              "      <td>0.057</td>\n",
              "      <td>10585</td>\n",
              "    </tr>\n",
              "  </tbody>\n",
              "</table>\n",
              "<p>1500 rows × 13 columns</p>\n",
              "</div>"
            ],
            "text/plain": [
              "       Temperature[C]  Humidity[%]  TVOC[ppb]  eCO2[ppm]  Raw H2  Raw Ethanol  \\\n",
              "12640          20.447        51.63       1124        568   12823        19444   \n",
              "41804          26.710        48.75       1109        400   12896        19450   \n",
              "54760          25.190        44.84          0        400   13275        21185   \n",
              "32821          20.780        50.62        289        400   13118        19974   \n",
              "47472          24.850        51.94       1373        410   12959        19382   \n",
              "...               ...          ...        ...        ...     ...          ...   \n",
              "11825          15.178        50.42       1009        589   12823        19472   \n",
              "112            21.543        56.50         16        408   12536        19628   \n",
              "55803          50.560        14.25        627        400   13347        20520   \n",
              "10798           4.094        53.37        981        664   12786        19483   \n",
              "35579          25.540        50.97        921        657   12797        19505   \n",
              "\n",
              "       Pressure[hPa]  PM1.0  PM2.5  NC0.5  NC1.0  NC2.5    CNT  \n",
              "12640        938.966   2.19   2.27  15.05  2.348  0.053  12640  \n",
              "41804        938.766   1.44   1.50   9.92  1.547  0.035  16810  \n",
              "54760        937.429   1.80   1.87  12.40  1.934  0.044   3618  \n",
              "32821        939.427   0.45   0.47   3.09  0.482  0.011   7827  \n",
              "47472        938.761   2.08   2.16  14.29  2.229  0.050  22478  \n",
              "...              ...    ...    ...    ...    ...    ...    ...  \n",
              "11825        939.070   2.12   2.20  14.57  2.272  0.051  11825  \n",
              "112          939.804   0.03   0.09   0.05  0.099  0.057    112  \n",
              "55803        936.837   0.97   1.01   6.68  1.042  0.024   4661  \n",
              "10798        939.061   2.22   2.30  15.26  2.380  0.054  10798  \n",
              "35579        939.086   2.35   2.44  16.14  2.518  0.057  10585  \n",
              "\n",
              "[1500 rows x 13 columns]"
            ]
          },
          "execution_count": 12,
          "metadata": {},
          "output_type": "execute_result"
        }
      ],
      "source": [
        "x=data.iloc[:,0:13]\n",
        "x"
      ]
    },
    {
      "cell_type": "code",
      "execution_count": 13,
      "id": "d243b89d",
      "metadata": {
        "execution": {
          "iopub.execute_input": "2022-10-01T17:35:01.581708Z",
          "iopub.status.busy": "2022-10-01T17:35:01.580530Z",
          "iopub.status.idle": "2022-10-01T17:35:01.589423Z",
          "shell.execute_reply": "2022-10-01T17:35:01.588561Z"
        },
        "id": "d243b89d",
        "outputId": "d6070719-8b57-406e-c5ce-b0bc99145694",
        "papermill": {
          "duration": 0.019585,
          "end_time": "2022-10-01T17:35:01.591617",
          "exception": false,
          "start_time": "2022-10-01T17:35:01.572032",
          "status": "completed"
        },
        "tags": []
      },
      "outputs": [
        {
          "data": {
            "text/plain": [
              "12640    1\n",
              "41804    1\n",
              "54760    0\n",
              "32821    1\n",
              "47472    1\n",
              "        ..\n",
              "11825    1\n",
              "112      0\n",
              "55803    0\n",
              "10798    1\n",
              "35579    1\n",
              "Name: Fire Alarm, Length: 1500, dtype: int64"
            ]
          },
          "execution_count": 13,
          "metadata": {},
          "output_type": "execute_result"
        }
      ],
      "source": [
        "y=data.iloc[:,-1]\n",
        "y"
      ]
    },
    {
      "cell_type": "code",
      "execution_count": 14,
      "id": "0d31f4b9",
      "metadata": {
        "execution": {
          "iopub.execute_input": "2022-10-01T17:35:01.607285Z",
          "iopub.status.busy": "2022-10-01T17:35:01.606161Z",
          "iopub.status.idle": "2022-10-01T17:35:01.649246Z",
          "shell.execute_reply": "2022-10-01T17:35:01.648143Z"
        },
        "id": "0d31f4b9",
        "papermill": {
          "duration": 0.053653,
          "end_time": "2022-10-01T17:35:01.651926",
          "exception": false,
          "start_time": "2022-10-01T17:35:01.598273",
          "status": "completed"
        },
        "tags": []
      },
      "outputs": [],
      "source": [
        "x_scaled=data_scaled.fit_transform(x)"
      ]
    },
    {
      "cell_type": "code",
      "execution_count": 15,
      "id": "2aa1c515",
      "metadata": {
        "execution": {
          "iopub.execute_input": "2022-10-01T17:35:01.666971Z",
          "iopub.status.busy": "2022-10-01T17:35:01.666598Z",
          "iopub.status.idle": "2022-10-01T17:35:01.740042Z",
          "shell.execute_reply": "2022-10-01T17:35:01.738949Z"
        },
        "id": "2aa1c515",
        "papermill": {
          "duration": 0.084154,
          "end_time": "2022-10-01T17:35:01.742866",
          "exception": false,
          "start_time": "2022-10-01T17:35:01.658712",
          "status": "completed"
        },
        "tags": []
      },
      "outputs": [],
      "source": [
        "xtrain, xtest, ytrain, ytest= train_test_split(x_scaled, y, test_size=0.25, random_state=101)"
      ]
    },
    {
      "cell_type": "markdown",
      "id": "7b7c38b7",
      "metadata": {
        "id": "7b7c38b7"
      },
      "source": [
        "# SVM Modeling"
      ]
    },
    {
      "cell_type": "code",
      "execution_count": 16,
      "id": "07dc0094",
      "metadata": {
        "id": "07dc0094"
      },
      "outputs": [],
      "source": [
        "#Create a svm Classifier\n",
        "clf = svm.SVC(kernel='linear') # Linear Kernel"
      ]
    },
    {
      "cell_type": "code",
      "execution_count": 17,
      "id": "4de8c1ec",
      "metadata": {},
      "outputs": [
        {
          "data": {
            "text/html": [
              "<style>#sk-container-id-1 {color: black;}#sk-container-id-1 pre{padding: 0;}#sk-container-id-1 div.sk-toggleable {background-color: white;}#sk-container-id-1 label.sk-toggleable__label {cursor: pointer;display: block;width: 100%;margin-bottom: 0;padding: 0.3em;box-sizing: border-box;text-align: center;}#sk-container-id-1 label.sk-toggleable__label-arrow:before {content: \"▸\";float: left;margin-right: 0.25em;color: #696969;}#sk-container-id-1 label.sk-toggleable__label-arrow:hover:before {color: black;}#sk-container-id-1 div.sk-estimator:hover label.sk-toggleable__label-arrow:before {color: black;}#sk-container-id-1 div.sk-toggleable__content {max-height: 0;max-width: 0;overflow: hidden;text-align: left;background-color: #f0f8ff;}#sk-container-id-1 div.sk-toggleable__content pre {margin: 0.2em;color: black;border-radius: 0.25em;background-color: #f0f8ff;}#sk-container-id-1 input.sk-toggleable__control:checked~div.sk-toggleable__content {max-height: 200px;max-width: 100%;overflow: auto;}#sk-container-id-1 input.sk-toggleable__control:checked~label.sk-toggleable__label-arrow:before {content: \"▾\";}#sk-container-id-1 div.sk-estimator input.sk-toggleable__control:checked~label.sk-toggleable__label {background-color: #d4ebff;}#sk-container-id-1 div.sk-label input.sk-toggleable__control:checked~label.sk-toggleable__label {background-color: #d4ebff;}#sk-container-id-1 input.sk-hidden--visually {border: 0;clip: rect(1px 1px 1px 1px);clip: rect(1px, 1px, 1px, 1px);height: 1px;margin: -1px;overflow: hidden;padding: 0;position: absolute;width: 1px;}#sk-container-id-1 div.sk-estimator {font-family: monospace;background-color: #f0f8ff;border: 1px dotted black;border-radius: 0.25em;box-sizing: border-box;margin-bottom: 0.5em;}#sk-container-id-1 div.sk-estimator:hover {background-color: #d4ebff;}#sk-container-id-1 div.sk-parallel-item::after {content: \"\";width: 100%;border-bottom: 1px solid gray;flex-grow: 1;}#sk-container-id-1 div.sk-label:hover label.sk-toggleable__label {background-color: #d4ebff;}#sk-container-id-1 div.sk-serial::before {content: \"\";position: absolute;border-left: 1px solid gray;box-sizing: border-box;top: 0;bottom: 0;left: 50%;z-index: 0;}#sk-container-id-1 div.sk-serial {display: flex;flex-direction: column;align-items: center;background-color: white;padding-right: 0.2em;padding-left: 0.2em;position: relative;}#sk-container-id-1 div.sk-item {position: relative;z-index: 1;}#sk-container-id-1 div.sk-parallel {display: flex;align-items: stretch;justify-content: center;background-color: white;position: relative;}#sk-container-id-1 div.sk-item::before, #sk-container-id-1 div.sk-parallel-item::before {content: \"\";position: absolute;border-left: 1px solid gray;box-sizing: border-box;top: 0;bottom: 0;left: 50%;z-index: -1;}#sk-container-id-1 div.sk-parallel-item {display: flex;flex-direction: column;z-index: 1;position: relative;background-color: white;}#sk-container-id-1 div.sk-parallel-item:first-child::after {align-self: flex-end;width: 50%;}#sk-container-id-1 div.sk-parallel-item:last-child::after {align-self: flex-start;width: 50%;}#sk-container-id-1 div.sk-parallel-item:only-child::after {width: 0;}#sk-container-id-1 div.sk-dashed-wrapped {border: 1px dashed gray;margin: 0 0.4em 0.5em 0.4em;box-sizing: border-box;padding-bottom: 0.4em;background-color: white;}#sk-container-id-1 div.sk-label label {font-family: monospace;font-weight: bold;display: inline-block;line-height: 1.2em;}#sk-container-id-1 div.sk-label-container {text-align: center;}#sk-container-id-1 div.sk-container {/* jupyter's `normalize.less` sets `[hidden] { display: none; }` but bootstrap.min.css set `[hidden] { display: none !important; }` so we also need the `!important` here to be able to override the default hidden behavior on the sphinx rendered scikit-learn.org. See: https://github.com/scikit-learn/scikit-learn/issues/21755 */display: inline-block !important;position: relative;}#sk-container-id-1 div.sk-text-repr-fallback {display: none;}</style><div id=\"sk-container-id-1\" class=\"sk-top-container\"><div class=\"sk-text-repr-fallback\"><pre>SVC(kernel=&#x27;linear&#x27;)</pre><b>In a Jupyter environment, please rerun this cell to show the HTML representation or trust the notebook. <br />On GitHub, the HTML representation is unable to render, please try loading this page with nbviewer.org.</b></div><div class=\"sk-container\" hidden><div class=\"sk-item\"><div class=\"sk-estimator sk-toggleable\"><input class=\"sk-toggleable__control sk-hidden--visually\" id=\"sk-estimator-id-1\" type=\"checkbox\" checked><label for=\"sk-estimator-id-1\" class=\"sk-toggleable__label sk-toggleable__label-arrow\">SVC</label><div class=\"sk-toggleable__content\"><pre>SVC(kernel=&#x27;linear&#x27;)</pre></div></div></div></div></div>"
            ],
            "text/plain": [
              "SVC(kernel='linear')"
            ]
          },
          "execution_count": 17,
          "metadata": {},
          "output_type": "execute_result"
        }
      ],
      "source": [
        "#Train the model using the training sets\n",
        "clf.fit(xtrain, ytrain)"
      ]
    },
    {
      "cell_type": "code",
      "execution_count": 18,
      "id": "e6ecc1bf",
      "metadata": {
        "id": "e6ecc1bf"
      },
      "outputs": [],
      "source": [
        "#Predict the response for test dataset\n",
        "y_pred = clf.predict(xtest)"
      ]
    },
    {
      "cell_type": "code",
      "execution_count": 19,
      "id": "e74189f9",
      "metadata": {
        "id": "e74189f9",
        "outputId": "249685b4-974b-45fa-9057-de863bf3b686"
      },
      "outputs": [
        {
          "name": "stdout",
          "output_type": "stream",
          "text": [
            "Number of mislabeled points out of a total 375 points : 78\n"
          ]
        }
      ],
      "source": [
        "print(\"Number of mislabeled points out of a total %d points : %d\" % (xtest.shape[0], (ytest != y_pred).sum()))"
      ]
    },
    {
      "cell_type": "code",
      "execution_count": 20,
      "id": "eace5ade",
      "metadata": {
        "id": "eace5ade",
        "outputId": "aefb7dbe-a862-48d8-aef4-5557b2de4fae"
      },
      "outputs": [
        {
          "name": "stdout",
          "output_type": "stream",
          "text": [
            "accuracy: 0.792\n"
          ]
        }
      ],
      "source": [
        "print(\"accuracy:\", 1 - (ytest != y_pred).sum()/xtest.shape[0])\n",
        "svm_accuracy = 1 - (ytest != y_pred).sum()/xtest.shape[0]"
      ]
    },
    {
      "cell_type": "markdown",
      "id": "9461c761",
      "metadata": {
        "id": "9461c761"
      },
      "source": [
        "# SVM Confusion Matrix"
      ]
    },
    {
      "cell_type": "code",
      "execution_count": 21,
      "id": "92391068",
      "metadata": {
        "id": "92391068",
        "outputId": "1cccda26-b626-40c6-a00f-665b3d2b2219"
      },
      "outputs": [
        {
          "data": {
            "image/png": "[encoded data removed]",
            "text/plain": [
              "<Figure size 640x480 with 2 Axes>"
            ]
          },
          "metadata": {},
          "output_type": "display_data"
        }
      ],
      "source": [
        "confusion_matrix = metrics.confusion_matrix(ytest, y_pred)\n",
        "cm_display = metrics.ConfusionMatrixDisplay(confusion_matrix = confusion_matrix, display_labels = [False, True])\n",
        "cm_display.plot()\n",
        "plt.show()"
      ]
    },
    {
      "cell_type": "markdown",
      "id": "682786f8",
      "metadata": {
        "id": "682786f8"
      },
      "source": [
        "# KNN Modeling"
      ]
    },
    {
      "cell_type": "code",
      "execution_count": 22,
      "id": "218378f1",
      "metadata": {
        "id": "218378f1",
        "outputId": "765a9628-2b9a-4f17-a0db-a1bf32e1d424"
      },
      "outputs": [
        {
          "data": {
            "text/html": [
              "<style>#sk-container-id-2 {color: black;}#sk-container-id-2 pre{padding: 0;}#sk-container-id-2 div.sk-toggleable {background-color: white;}#sk-container-id-2 label.sk-toggleable__label {cursor: pointer;display: block;width: 100%;margin-bottom: 0;padding: 0.3em;box-sizing: border-box;text-align: center;}#sk-container-id-2 label.sk-toggleable__label-arrow:before {content: \"▸\";float: left;margin-right: 0.25em;color: #696969;}#sk-container-id-2 label.sk-toggleable__label-arrow:hover:before {color: black;}#sk-container-id-2 div.sk-estimator:hover label.sk-toggleable__label-arrow:before {color: black;}#sk-container-id-2 div.sk-toggleable__content {max-height: 0;max-width: 0;overflow: hidden;text-align: left;background-color: #f0f8ff;}#sk-container-id-2 div.sk-toggleable__content pre {margin: 0.2em;color: black;border-radius: 0.25em;background-color: #f0f8ff;}#sk-container-id-2 input.sk-toggleable__control:checked~div.sk-toggleable__content {max-height: 200px;max-width: 100%;overflow: auto;}#sk-container-id-2 input.sk-toggleable__control:checked~label.sk-toggleable__label-arrow:before {content: \"▾\";}#sk-container-id-2 div.sk-estimator input.sk-toggleable__control:checked~label.sk-toggleable__label {background-color: #d4ebff;}#sk-container-id-2 div.sk-label input.sk-toggleable__control:checked~label.sk-toggleable__label {background-color: #d4ebff;}#sk-container-id-2 input.sk-hidden--visually {border: 0;clip: rect(1px 1px 1px 1px);clip: rect(1px, 1px, 1px, 1px);height: 1px;margin: -1px;overflow: hidden;padding: 0;position: absolute;width: 1px;}#sk-container-id-2 div.sk-estimator {font-family: monospace;background-color: #f0f8ff;border: 1px dotted black;border-radius: 0.25em;box-sizing: border-box;margin-bottom: 0.5em;}#sk-container-id-2 div.sk-estimator:hover {background-color: #d4ebff;}#sk-container-id-2 div.sk-parallel-item::after {content: \"\";width: 100%;border-bottom: 1px solid gray;flex-grow: 1;}#sk-container-id-2 div.sk-label:hover label.sk-toggleable__label {background-color: #d4ebff;}#sk-container-id-2 div.sk-serial::before {content: \"\";position: absolute;border-left: 1px solid gray;box-sizing: border-box;top: 0;bottom: 0;left: 50%;z-index: 0;}#sk-container-id-2 div.sk-serial {display: flex;flex-direction: column;align-items: center;background-color: white;padding-right: 0.2em;padding-left: 0.2em;position: relative;}#sk-container-id-2 div.sk-item {position: relative;z-index: 1;}#sk-container-id-2 div.sk-parallel {display: flex;align-items: stretch;justify-content: center;background-color: white;position: relative;}#sk-container-id-2 div.sk-item::before, #sk-container-id-2 div.sk-parallel-item::before {content: \"\";position: absolute;border-left: 1px solid gray;box-sizing: border-box;top: 0;bottom: 0;left: 50%;z-index: -1;}#sk-container-id-2 div.sk-parallel-item {display: flex;flex-direction: column;z-index: 1;position: relative;background-color: white;}#sk-container-id-2 div.sk-parallel-item:first-child::after {align-self: flex-end;width: 50%;}#sk-container-id-2 div.sk-parallel-item:last-child::after {align-self: flex-start;width: 50%;}#sk-container-id-2 div.sk-parallel-item:only-child::after {width: 0;}#sk-container-id-2 div.sk-dashed-wrapped {border: 1px dashed gray;margin: 0 0.4em 0.5em 0.4em;box-sizing: border-box;padding-bottom: 0.4em;background-color: white;}#sk-container-id-2 div.sk-label label {font-family: monospace;font-weight: bold;display: inline-block;line-height: 1.2em;}#sk-container-id-2 div.sk-label-container {text-align: center;}#sk-container-id-2 div.sk-container {/* jupyter's `normalize.less` sets `[hidden] { display: none; }` but bootstrap.min.css set `[hidden] { display: none !important; }` so we also need the `!important` here to be able to override the default hidden behavior on the sphinx rendered scikit-learn.org. See: https://github.com/scikit-learn/scikit-learn/issues/21755 */display: inline-block !important;position: relative;}#sk-container-id-2 div.sk-text-repr-fallback {display: none;}</style><div id=\"sk-container-id-2\" class=\"sk-top-container\"><div class=\"sk-text-repr-fallback\"><pre>KNeighborsClassifier(n_neighbors=7)</pre><b>In a Jupyter environment, please rerun this cell to show the HTML representation or trust the notebook. <br />On GitHub, the HTML representation is unable to render, please try loading this page with nbviewer.org.</b></div><div class=\"sk-container\" hidden><div class=\"sk-item\"><div class=\"sk-estimator sk-toggleable\"><input class=\"sk-toggleable__control sk-hidden--visually\" id=\"sk-estimator-id-2\" type=\"checkbox\" checked><label for=\"sk-estimator-id-2\" class=\"sk-toggleable__label sk-toggleable__label-arrow\">KNeighborsClassifier</label><div class=\"sk-toggleable__content\"><pre>KNeighborsClassifier(n_neighbors=7)</pre></div></div></div></div></div>"
            ],
            "text/plain": [
              "KNeighborsClassifier(n_neighbors=7)"
            ]
          },
          "execution_count": 22,
          "metadata": {},
          "output_type": "execute_result"
        }
      ],
      "source": [
        "\n",
        "knn = KNeighborsClassifier(n_neighbors=7)\n",
        "\n",
        "knn.fit(xtrain, ytrain)"
      ]
    },
    {
      "cell_type": "code",
      "execution_count": 23,
      "id": "3fbbb339",
      "metadata": {
        "id": "3fbbb339"
      },
      "outputs": [],
      "source": [
        "y_pred = knn.predict(xtest)"
      ]
    },
    {
      "cell_type": "code",
      "execution_count": 24,
      "id": "34ff1335",
      "metadata": {
        "id": "34ff1335",
        "outputId": "1c1a1d91-f2dc-4a03-d339-e80ba670fc93"
      },
      "outputs": [
        {
          "name": "stdout",
          "output_type": "stream",
          "text": [
            "Number of mislabeled points out of a total 375 points : 2\n"
          ]
        }
      ],
      "source": [
        "print(\"Number of mislabeled points out of a total %d points : %d\" % (xtest.shape[0], (ytest != y_pred).sum()))"
      ]
    },
    {
      "cell_type": "code",
      "execution_count": 25,
      "id": "93df0094",
      "metadata": {
        "id": "93df0094",
        "outputId": "ea8ad5d6-5056-43b0-899e-e3377ca3a6bc"
      },
      "outputs": [
        {
          "name": "stdout",
          "output_type": "stream",
          "text": [
            "accuracy: 0.9946666666666667\n"
          ]
        }
      ],
      "source": [
        "print(\"accuracy:\", 1 - (ytest != y_pred).sum()/xtest.shape[0])\n",
        "knn_accuracy = 1 - (ytest != y_pred).sum()/xtest.shape[0]"
      ]
    },
    {
      "cell_type": "markdown",
      "id": "113c65bb",
      "metadata": {
        "id": "113c65bb"
      },
      "source": [
        "# KNN Confusion Matrix"
      ]
    },
    {
      "cell_type": "code",
      "execution_count": 26,
      "id": "6dbcc025",
      "metadata": {
        "id": "6dbcc025",
        "outputId": "94057935-0e62-4e09-c6c2-247ead042421"
      },
      "outputs": [
        {
          "data": {
            "image/png": "[encoded data removed]",
            "text/plain": [
              "<Figure size 640x480 with 2 Axes>"
            ]
          },
          "metadata": {},
          "output_type": "display_data"
        }
      ],
      "source": [
        "confusion_matrix = metrics.confusion_matrix(ytest, y_pred)\n",
        "cm_display = metrics.ConfusionMatrixDisplay(confusion_matrix = confusion_matrix, display_labels = [False, True])\n",
        "cm_display.plot()\n",
        "plt.show()"
      ]
    },
    {
      "cell_type": "markdown",
      "id": "9735dcf5",
      "metadata": {
        "id": "9735dcf5"
      },
      "source": [
        "# Ensemble learning"
      ]
    },
    {
      "cell_type": "markdown",
      "id": "a3339f2b",
      "metadata": {
        "id": "a3339f2b"
      },
      "source": [
        "# Adaboost Classifier"
      ]
    },
    {
      "cell_type": "code",
      "execution_count": 27,
      "id": "362f76f4",
      "metadata": {
        "id": "362f76f4"
      },
      "outputs": [],
      "source": [
        "\n",
        "# Create adaboost classifer object\n",
        "abc = AdaBoostClassifier(n_estimators=50, learning_rate=1, random_state=0)\n",
        "\n",
        "# Train Adaboost Classifer\n",
        "model1 = abc.fit(xtrain, ytrain)\n",
        "\n",
        "\n",
        "#Predict the response for test dataset\n",
        "y_pred = model1.predict(xtest)"
      ]
    },
    {
      "cell_type": "code",
      "execution_count": 28,
      "id": "6035393a",
      "metadata": {
        "id": "6035393a",
        "outputId": "5a2a64bc-79e5-442c-fbd4-2e764f97c65c"
      },
      "outputs": [
        {
          "name": "stdout",
          "output_type": "stream",
          "text": [
            "AdaBoost Classifier Model Accuracy: 0.9946666666666667\n"
          ]
        }
      ],
      "source": [
        "\n",
        "# calculate and print model accuracy\n",
        "print(\"AdaBoost Classifier Model Accuracy:\", accuracy_score(ytest, y_pred))\n",
        "adaboost_accuracy = accuracy_score(ytest, y_pred)"
      ]
    },
    {
      "cell_type": "code",
      "execution_count": 29,
      "id": "b2af21a3",
      "metadata": {
        "id": "b2af21a3",
        "outputId": "854cb656-faa3-4e41-8dfd-670ebca888a1"
      },
      "outputs": [
        {
          "data": {
            "image/png": "[encoded data removed]",
            "text/plain": [
              "<Figure size 640x480 with 2 Axes>"
            ]
          },
          "metadata": {},
          "output_type": "display_data"
        }
      ],
      "source": [
        "confusion_matrix = metrics.confusion_matrix(ytest, y_pred)\n",
        "\n",
        "cm_display = metrics.ConfusionMatrixDisplay(confusion_matrix = confusion_matrix, display_labels = [False, True])\n",
        "cm_display.plot()\n",
        "plt.show()"
      ]
    },
    {
      "cell_type": "markdown",
      "id": "c05c2dfa",
      "metadata": {
        "id": "c05c2dfa"
      },
      "source": [
        "# XGBoost Classifier"
      ]
    },
    {
      "cell_type": "code",
      "execution_count": 30,
      "id": "898ec4c3",
      "metadata": {
        "id": "898ec4c3"
      },
      "outputs": [],
      "source": [
        "model=xgb.XGBClassifier(random_state=1,learning_rate=0.01)\n",
        "model.fit(xtrain, ytrain)\n",
        "y_pred = model.predict(xtest)"
      ]
    },
    {
      "cell_type": "code",
      "execution_count": 31,
      "id": "194a2a62",
      "metadata": {
        "id": "194a2a62",
        "outputId": "4e957d85-e3b4-4566-e703-716612c494b4"
      },
      "outputs": [
        {
          "name": "stdout",
          "output_type": "stream",
          "text": [
            "AdaBoost Classifier Model Accuracy: 0.992\n"
          ]
        }
      ],
      "source": [
        "\n",
        "# calculate and print model accuracy\n",
        "print(\"AdaBoost Classifier Model Accuracy:\", accuracy_score(ytest, y_pred))\n",
        "xgboost_accuracy = accuracy_score(ytest, y_pred)"
      ]
    },
    {
      "cell_type": "code",
      "execution_count": 32,
      "id": "f10d74de",
      "metadata": {
        "id": "f10d74de",
        "outputId": "329643ca-2ada-4779-ab29-3ef4525b010a"
      },
      "outputs": [
        {
          "data": {
            "image/png": "[encoded data removed]",
            "text/plain": [
              "<Figure size 640x480 with 2 Axes>"
            ]
          },
          "metadata": {},
          "output_type": "display_data"
        }
      ],
      "source": [
        "confusion_matrix = metrics.confusion_matrix(ytest, y_pred)\n",
        "cm_display = metrics.ConfusionMatrixDisplay(confusion_matrix = confusion_matrix, display_labels = [False, True])\n",
        "cm_display.plot()\n",
        "plt.show()"
      ]
    },
    {
      "cell_type": "code",
      "execution_count": 34,
      "id": "7ba88958",
      "metadata": {},
      "outputs": [
        {
          "name": "stdout",
          "output_type": "stream",
          "text": [
            "Successfully Deleted Columns\n"
          ]
        }
      ],
      "source": [
        "try:\n",
        "    df = data.drop(['CNT','PM1.0','PM2.5','NC0.5','NC1.0','NC2.5'], axis=1, inplace=True)\n",
        "    print(\"Successfully Deleted Columns\")\n",
        "except:\n",
        "    print(\"Columns cannot be deleted\")"
      ]
    },
    {
      "cell_type": "code",
      "execution_count": 35,
      "id": "711f4165",
      "metadata": {
        "id": "711f4165"
      },
      "outputs": [
        {
          "name": "stderr",
          "output_type": "stream",
          "text": [
            "C:\\Users\\lenovo t470\\AppData\\Local\\Temp\\ipykernel_12900\\691283018.py:3: UserWarning: To output multiple subplots, the figure containing the passed axes is being cleared.\n",
            "  data.hist(ax=ax)\n"
          ]
        },
        {
          "data": {
            "text/plain": [
              "array([[<Axes: title={'center': 'Temperature[C]'}>,\n",
              "        <Axes: title={'center': 'Humidity[%]'}>,\n",
              "        <Axes: title={'center': 'TVOC[ppb]'}>],\n",
              "       [<Axes: title={'center': 'eCO2[ppm]'}>,\n",
              "        <Axes: title={'center': 'Raw H2'}>,\n",
              "        <Axes: title={'center': 'Raw Ethanol'}>],\n",
              "       [<Axes: title={'center': 'Pressure[hPa]'}>,\n",
              "        <Axes: title={'center': 'Fire Alarm'}>, <Axes: >]], dtype=object)"
            ]
          },
          "execution_count": 35,
          "metadata": {},
          "output_type": "execute_result"
        },
        {
          "data": {
            "image/png": "[encoded data removed]",
            "text/plain": [
              "<Figure size 1000x1000 with 9 Axes>"
            ]
          },
          "metadata": {},
          "output_type": "display_data"
        }
      ],
      "source": [
        "fig = plt.figure(figsize = (10,10))\n",
        "ax = fig.gca()\n",
        "data.hist(ax=ax)"
      ]
    },
    {
      "cell_type": "code",
      "execution_count": 36,
      "id": "7beefc20",
      "metadata": {},
      "outputs": [
        {
          "data": {
            "text/plain": [
              "<Axes: >"
            ]
          },
          "execution_count": 36,
          "metadata": {},
          "output_type": "execute_result"
        },
        {
          "data": {
            "image/png": "[encoded data removed]",
            "text/plain": [
              "<Figure size 800x600 with 2 Axes>"
            ]
          },
          "metadata": {},
          "output_type": "display_data"
        }
      ],
      "source": [
        "#Co relation for Random Forest\n",
        "corr2 = data.corr()\n",
        "\n",
        "mask = np.triu(np.ones_like(corr2, dtype=bool))\n",
        "f, ax = plt.subplots(figsize=(8, 6))\n",
        "cmap = sns.diverging_palette(150, 30, as_cmap=True)\n",
        "sns.heatmap(corr2, mask=mask, cmap=cmap, vmax=.3, center=0,\n",
        "            square=True, linewidths=.5, cbar_kws={\"shrink\": .5})"
      ]
    },
    {
      "cell_type": "markdown",
      "id": "c0a82cf1",
      "metadata": {},
      "source": [
        "# Splitting the feature and Target"
      ]
    },
    {
      "cell_type": "code",
      "execution_count": 37,
      "id": "0a1c647d",
      "metadata": {},
      "outputs": [],
      "source": [
        "dfy = data.pop('Fire Alarm')\n",
        "dfy = pd.DataFrame(dfy, columns=['Fire Alarm'])\n"
      ]
    },
    {
      "cell_type": "markdown",
      "id": "b9ab42da",
      "metadata": {},
      "source": [
        "# Split train and val dataset for random Forest"
      ]
    },
    {
      "cell_type": "code",
      "execution_count": 38,
      "id": "2650359b",
      "metadata": {},
      "outputs": [],
      "source": [
        "VER = '002'\n",
        "NUM_STATE = 41\n",
        "xtrain, xval, ytrain, ytest = train_test_split(data, dfy, test_size=0.2, shuffle=True, random_state=NUM_STATE, stratify=dfy)\n"
      ]
    },
    {
      "cell_type": "markdown",
      "id": "3cdf16e8",
      "metadata": {},
      "source": [
        "# Scale data using StandardScaler"
      ]
    },
    {
      "cell_type": "code",
      "execution_count": 39,
      "id": "ae754355",
      "metadata": {},
      "outputs": [],
      "source": [
        "sc = StandardScaler()\n",
        "sc.fit(xtrain)\n",
        "xtrainsc = sc.transform(xtrain)\n",
        "xtest = sc.transform(xval)"
      ]
    },
    {
      "cell_type": "markdown",
      "id": "0c0a2a81",
      "metadata": {},
      "source": [
        "# Train model using Random Forest"
      ]
    },
    {
      "cell_type": "code",
      "execution_count": 40,
      "id": "c57019a6",
      "metadata": {},
      "outputs": [
        {
          "name": "stderr",
          "output_type": "stream",
          "text": [
            "d:\\Anaconda\\Lib\\site-packages\\sklearn\\base.py:1151: DataConversionWarning: A column-vector y was passed when a 1d array was expected. Please change the shape of y to (n_samples,), for example using ravel().\n",
            "  return fit_method(estimator, *args, **kwargs)\n"
          ]
        },
        {
          "name": "stdout",
          "output_type": "stream",
          "text": [
            "Random Forest Accuracy  0.9866666666666667\n"
          ]
        },
        {
          "data": {
            "image/png": "[encoded data removed]",
            "text/plain": [
              "<Figure size 640x480 with 2 Axes>"
            ]
          },
          "metadata": {},
          "output_type": "display_data"
        }
      ],
      "source": [
        "rf = RandomForestClassifier()\n",
        "rf.fit(xtrainsc, ytrain)\n",
        "\n",
        "# Running the prediction\n",
        "ypred = rf.predict(xtest)\n",
        "\n",
        "\n",
        "print(\"Random Forest Accuracy \",accuracy_score(ytest, ypred))\n",
        "rf_accuracy = accuracy_score(ytest, ypred)\n",
        "\n",
        "confusion_matrix = metrics.confusion_matrix(ytest, ypred)\n",
        "cm_display = metrics.ConfusionMatrixDisplay(confusion_matrix = confusion_matrix, display_labels = [False, True])\n",
        "cm_display.plot()\n",
        "plt.show()\n"
      ]
    },
    {
      "cell_type": "code",
      "execution_count": 41,
      "id": "9f41f558",
      "metadata": {},
      "outputs": [
        {
          "name": "stdout",
          "output_type": "stream",
          "text": [
            "Classification Report                precision    recall  f1-score   support\n",
            "\n",
            "           0       0.98      0.98      0.98        81\n",
            "           1       0.99      0.99      0.99       219\n",
            "\n",
            "    accuracy                           0.99       300\n",
            "   macro avg       0.98      0.98      0.98       300\n",
            "weighted avg       0.99      0.99      0.99       300\n",
            "\n"
          ]
        }
      ],
      "source": [
        "print(\"Classification Report \",classification_report(ytest, ypred))\n"
      ]
    },
    {
      "cell_type": "code",
      "execution_count": 42,
      "id": "69041ede",
      "metadata": {},
      "outputs": [
        {
          "data": {
            "text/plain": [
              "['./standardscaler.joblib']"
            ]
          },
          "execution_count": 42,
          "metadata": {},
          "output_type": "execute_result"
        },
        {
          "data": {
            "image/png": "[encoded data removed]",
            "text/plain": [
              "<Figure size 800x400 with 1 Axes>"
            ]
          },
          "metadata": {},
          "output_type": "display_data"
        }
      ],
      "source": [
        "# feature Importance\n",
        "\n",
        "sorted_idx = rf.feature_importances_.argsort()\n",
        "rf.feature_importances_[sorted_idx]\n",
        "\n",
        "plt.figure(figsize=(8,4))\n",
        "plt.xticks(rotation = 90)\n",
        "plt.bar(xtrain.columns[sorted_idx], rf.feature_importances_[sorted_idx])\n",
        "\n",
        "joblib.dump(rf, './smoke-detection-rf.joblib')\n",
        "\n",
        "joblib.dump(sc, './standardscaler.joblib')\n"
      ]
    },
    {
      "cell_type": "code",
      "execution_count": 43,
      "id": "023435e6",
      "metadata": {},
      "outputs": [
        {
          "name": "stdout",
          "output_type": "stream",
          "text": [
            "KNN Accuracy: 0.9946666666666667\n",
            "SVM Accuracy: 0.792\n",
            "AdaBoost Accuracy: 0.9946666666666667\n",
            "XGBoost Accuracy: 0.992\n",
            "Random Forest Accuracy  0.9866666666666667\n"
          ]
        }
      ],
      "source": [
        "print(\"KNN Accuracy: \" + str(knn_accuracy))\n",
        "print(\"SVM Accuracy: \" + str(svm_accuracy))\n",
        "print(\"AdaBoost Accuracy: \" + str(adaboost_accuracy))\n",
        "print(\"XGBoost Accuracy: \" + str(xgboost_accuracy))\n",
        "print(\"Random Forest Accuracy \",str(rf_accuracy))\n"
      ]
    }
  ],
  "metadata": {
    "colab": {
      "provenance": []
    },
    "kernelspec": {
      "display_name": "Python 3 (ipykernel)",
      "language": "python",
      "name": "python3"
    },
    "language_info": {
      "codemirror_mode": {
        "name": "ipython",
        "version": 3
      },
      "file_extension": ".py",
      "mimetype": "text/x-python",
      "name": "python",
      "nbconvert_exporter": "python",
      "pygments_lexer": "ipython3",
      "version": "3.11.5"
    },
    "papermill": {
      "default_parameters": {},
      "duration": 61.784174,
      "end_time": "2022-10-01T17:35:52.777312",
      "environment_variables": {},
      "exception": null,
      "input_path": "__notebook__.ipynb",
      "output_path": "__notebook__.ipynb",
      "parameters": {},
      "start_time": "2022-10-01T17:34:50.993138",
      "version": "2.3.4"
    }
  },
  "nbformat": 4,
  "nbformat_minor": 5
}
